{
  "cells": [
    {
      "cell_type": "code",
      "execution_count": null,
      "metadata": {
        "id": "rmvFGJKL1Yf7"
      },
      "outputs": [],
      "source": [
        "## Cài đặt nếu thiếu thư viện để load model\n",
        "# !pip install torch==2.6.0+cu118 torchaudio==2.6.0+cu118 torchvision==0.21.0+cu118 --index-url https://download.pytorch.org/whl/cu118\n",
        "# !pip install transformers==4.51.3 xformers==0.0.27.post2 bitsandbytes==0.43.2\n",
        "# !pip install unsloth==2025.6.12 unsloth-zoo==2025.6.8"
      ]
    },
    {
      "cell_type": "code",
      "execution_count": null,
      "metadata": {
        "id": "bGnWjKJqwL-w"
      },
      "outputs": [],
      "source": [
        "!pip install flask pyngrok"
      ]
    },
    {
      "cell_type": "code",
      "execution_count": null,
      "metadata": {
        "id": "6dcMnJJH1Z4M"
      },
      "outputs": [],
      "source": [
        "from flask import Flask, request, jsonify\n",
        "from pyngrok import ngrok\n",
        "\n",
        "# Load model directly\n",
        "from transformers import AutoTokenizer, AutoModelForCausalLM\n",
        "from peft import PeftModel\n",
        "import torch\n",
        "\n",
        "# Load base model \n",
        "base_model = AutoModelForCausalLM.from_pretrained(\n",
        "    \"unsloth/llama-3.2-3b-bnb-4bit\",\n",
        "    device_map=\"auto\",\n",
        "    load_in_4bit=True,\n",
        "    trust_remote_code=True\n",
        ")\n",
        "\n",
        "tokenizer = AutoTokenizer.from_pretrained(\"unsloth/llama-3.2-3b-bnb-4bit\")\n",
        "\n",
        "# Load LoRA fine-tuned adapter\n",
        "model = PeftModel.from_pretrained(base_model, \"dainlieu/Llama-3.2-3B-bnb-4bit-MedMCQA\")\n",
        "model.eval()\n",
        "\n",
        "ngrok.set_auth_token(\"2zZ1SaL2XV6CLV1071XeNwrPaPH_66yx3VoYYuQSEZjepjZ1\")\n",
        "app = Flask(__name__)\n",
        "\n",
        "@app.route(\"/chat\", methods=[\"POST\"])\n",
        "def chat():\n",
        "    data = request.json\n",
        "\n",
        "    question = data.get(\"question\", \"\")\n",
        "    choices = data.get(\"choices\", [])\n",
        "\n",
        "    if not question or not choices:\n",
        "        return jsonify({\"error\": \"Thiếu question hoặc choices\"}), 400\n",
        "\n",
        "    formatted_choices = \"\\n\".join([f\"{chr(65+i)}. {c}\" for i, c in enumerate(choices)])\n",
        "    prompt = (\n",
        "        f\"Question: {question}\\n\"\n",
        "        f\"Choices:\\n{formatted_choices}\\n\"\n",
        "    )\n",
        "\n",
        "    inputs = tokenizer(prompt, return_tensors=\"pt\").to(\"cuda\")\n",
        "    outputs = model.generate(**inputs, max_new_tokens=32, do_sample=False)\n",
        "    result = tokenizer.decode(outputs[0], skip_special_tokens=True)\n",
        "\n",
        "    return jsonify({\"prediction\": result})\n",
        "\n",
        "# Run ngrok và app Flask\n",
        "public_url = ngrok.connect(5000)\n",
        "print(f\"Ngrok tunnel URL: {public_url}\")\n",
        "app.run(port=5000)"
      ]
    }
  ],
  "metadata": {
    "colab": {
      "provenance": []
    },
    "kernelspec": {
      "display_name": "Python 3",
      "name": "python3"
    },
    "language_info": {
      "name": "python"
    }
  },
  "nbformat": 4,
  "nbformat_minor": 0
}
