{
 "cells": [
  {
   "cell_type": "markdown",
   "id": "2ebf91b9",
   "metadata": {},
   "source": [
    "## 1. Import libraries"
   ]
  },
  {
   "cell_type": "code",
   "execution_count": 7,
   "id": "16332f38",
   "metadata": {},
   "outputs": [],
   "source": [
    "from datasets import load_dataset\n",
    "from unsloth import FastLanguageModel\n",
    "from huggingface_hub import login\n",
    "from dotenv import load_dotenv\n",
    "from trl import SFTTrainer\n",
    "from transformers import TrainingArguments\n",
    "from unsloth import is_bfloat16_supported"
   ]
  },
  {
   "cell_type": "markdown",
   "id": "a558f4bc",
   "metadata": {},
   "source": [
    "## 2. Load dataset"
   ]
  },
  {
   "cell_type": "code",
   "execution_count": 4,
   "id": "de39b179",
   "metadata": {},
   "outputs": [],
   "source": [
    "ds = load_dataset(\"openlifescienceai/medmcqa\")\n",
    "del ds[\"test\"]"
   ]
  },
  {
   "cell_type": "markdown",
   "id": "ad3b01d9",
   "metadata": {},
   "source": [
    "### 2.1. Format data"
   ]
  },
  {
   "cell_type": "code",
   "execution_count": null,
   "id": "d2fb36eb",
   "metadata": {},
   "outputs": [],
   "source": [
    "data_prompt = \"\"\"Choose the correct option for the following question.\n",
    "\n",
    "### Question:\n",
    "{}\n",
    "\n",
    "### Choice:\n",
    "{}\n",
    "\n",
    "### Answer:\n",
    "\"\"\"\n",
    "\n",
    "# Mapping chỉ số sang nhãn\n",
    "id2label = {\n",
    "    0: 'A',\n",
    "    1: 'B',\n",
    "    2: 'C',\n",
    "    3: 'D'\n",
    "}\n",
    "\n",
    "# Hàm xử lý dữ liệu và tạo prompt\n",
    "def formatting_prompt(examples):\n",
    "    questions = examples[\"question\"]\n",
    "    opas = examples[\"opa\"]\n",
    "    opbs = examples[\"opb\"]\n",
    "    opcs = examples[\"opc\"]\n",
    "    opds = examples[\"opd\"]\n",
    "    cops = examples[\"cop\"]\n",
    "\n",
    "    texts = []\n",
    "    for idx in range(len(questions)):\n",
    "        question = questions[idx]\n",
    "        opa = opas[idx]\n",
    "        opb = opbs[idx]\n",
    "        opc = opcs[idx]\n",
    "        opd = opds[idx]\n",
    "        answer = id2label[cops[idx]]\n",
    "\n",
    "        # Thêm đáp án đúng vào phần trả lời\n",
    "        if answer == \"A\":\n",
    "            answer += \" \" + opa\n",
    "        elif answer == \"B\":\n",
    "            answer += \" \" + opb\n",
    "        elif answer == \"C\":\n",
    "            answer += \" \" + opc\n",
    "        elif answer == \"D\":\n",
    "            answer += \" \" + opd\n",
    "\n",
    "        # Gộp các lựa chọn thành một chuỗi\n",
    "        choices = f\"A. {opa} B. {opb} C. {opc} D. {opd}\"\n",
    "        text = data_prompt.format(question, choices)\n",
    "        texts.append(text)\n",
    "\n",
    "    return {\"text\": texts}\n",
    "\n",
    "# Áp dụng hàm xử lý lên tập dữ liệu\n",
    "process_ds = ds.map(formatting_prompt, batched=True)"
   ]
  },
  {
   "cell_type": "markdown",
   "id": "268639be",
   "metadata": {},
   "source": [
    "## 3. Load pre-trained model"
   ]
  },
  {
   "cell_type": "code",
   "execution_count": 5,
   "id": "09c0305d",
   "metadata": {},
   "outputs": [
    {
     "name": "stdout",
     "output_type": "stream",
     "text": [
      "==((====))==  Unsloth 2025.6.12: Fast Llama patching. Transformers: 4.53.1.\n",
      "   \\\\   /|    NVIDIA GeForce RTX 4060 Ti. Num GPUs = 1. Max memory: 15.996 GB. Platform: Linux.\n",
      "O^O/ \\_/ \\    Torch: 2.7.0+cu126. CUDA: 8.9. CUDA Toolkit: 12.6. Triton: 3.3.0\n",
      "\\        /    Bfloat16 = TRUE. FA [Xformers = 0.0.30. FA2 = False]\n",
      " \"-____-\"     Free license: http://github.com/unslothai/unsloth\n",
      "Unsloth: Fast downloading is enabled - ignore downloading bars which are red colored!\n"
     ]
    },
    {
     "name": "stderr",
     "output_type": "stream",
     "text": [
      "Unsloth 2025.6.12 patched 16 layers with 16 QKV layers, 16 O layers and 16 MLP layers.\n"
     ]
    },
    {
     "name": "stdout",
     "output_type": "stream",
     "text": [
      "trainable params: 11,272,192 || all params: 1,247,086,592 || trainable%: 0.9039\n",
      "None\n"
     ]
    }
   ],
   "source": [
    "# Thiết lập độ dài chuỗi tối đa\n",
    "max_seq_length = 2048\n",
    "\n",
    "# Load mô hình đã nén 4-bit\n",
    "model, tokenizer = FastLanguageModel.from_pretrained(\n",
    "    model_name=\"unsloth/Llama-3.2-1B-bnb-4bit\",\n",
    "    max_seq_length=max_seq_length,\n",
    "    load_in_4bit=True,\n",
    "    dtype=None,\n",
    ")\n",
    "\n",
    "# Thiết lập PEFT với LoRA\n",
    "model = FastLanguageModel.get_peft_model(\n",
    "    model,\n",
    "    r=16,\n",
    "    lora_alpha=16,\n",
    "    lora_dropout=0,\n",
    "    target_modules=[\n",
    "        \"q_proj\", \"k_proj\", \"v_proj\", \"up_proj\",\n",
    "        \"down_proj\", \"o_proj\", \"gate_proj\"\n",
    "    ],\n",
    "    use_rslora=True,\n",
    "    use_gradient_checkpointing=\"unsloth\",\n",
    "    random_state=42,\n",
    "    loftq_config=None,\n",
    ")\n",
    "\n",
    "# In thông tin các tham số có thể huấn luyện\n",
    "print(model.print_trainable_parameters())\n"
   ]
  },
  {
   "cell_type": "markdown",
   "id": "edee2b4c",
   "metadata": {},
   "source": [
    "## 4. Finetuning"
   ]
  },
  {
   "cell_type": "code",
   "execution_count": null,
   "id": "a7dec847",
   "metadata": {},
   "outputs": [],
   "source": [
    "# Thiết lập tham số huấn luyện\n",
    "args = TrainingArguments(\n",
    "    output_dir=\"med-mcqa-llama-3.2-3B-4bit-lora\",\n",
    "    logging_dir=\"logs\",\n",
    "    learning_rate=3e-4,\n",
    "    lr_scheduler_type=\"linear\",\n",
    "    per_device_train_batch_size=32,\n",
    "    gradient_accumulation_steps=8,\n",
    "    num_train_epochs=2,\n",
    "    eval_strategy=\"steps\",\n",
    "    save_strategy=\"steps\",\n",
    "    logging_strategy=\"steps\",\n",
    "    eval_steps=50,\n",
    "    save_steps=50,\n",
    "    logging_steps=50,\n",
    "    save_total_limit=1,\n",
    "    load_best_model_at_end=True,\n",
    "    fp16=not is_bfloat16_supported(),\n",
    "    bf16=is_bfloat16_supported(),\n",
    "    optim=\"adamw_8bit\",\n",
    "    weight_decay=0.01,\n",
    "    warmup_steps=10,\n",
    "    seed=0,\n",
    ")\n",
    "\n",
    "# Khởi tạo trainer\n",
    "trainer = SFTTrainer(\n",
    "    model=model,\n",
    "    tokenizer=tokenizer,\n",
    "    args=args,\n",
    "    train_dataset=process_ds[\"train\"],\n",
    "    eval_dataset=process_ds[\"validation\"],\n",
    "    dataset_text_field=\"text\",\n",
    ")\n",
    "\n",
    "# Bắt đầu huấn luyện\n",
    "trainer.train()\n"
   ]
  },
  {
   "cell_type": "markdown",
   "id": "322cc86b",
   "metadata": {},
   "source": [
    "## 5. Save model"
   ]
  },
  {
   "cell_type": "code",
   "execution_count": null,
   "id": "50ea15af",
   "metadata": {},
   "outputs": [],
   "source": [
    "# Đăng nhập Hugging Face Hub bằng access token cá nhân\n",
    "login(token=load_dotenv('HF_TOKEN'))  # Thay bằng token thật\n",
    "\n",
    "# Lưu mô hình local\n",
    "model.save_pretrained(\"unsloth-llama-trained\")\n",
    "\n",
    "# Tên repo Hugging Face bạn muốn upload mô hình\n",
    "PEFT_MODEL = \"dainlieu/Llama-3.2-3B-bnb-4bit-MedMCQA\"\n",
    "\n",
    "# Đẩy mô hình lên Hugging Face\n",
    "model.push_to_hub(PEFT_MODEL, use_auth_token=True)"
   ]
  },
  {
   "cell_type": "markdown",
   "id": "3952cdbc",
   "metadata": {},
   "source": [
    "## 6. Inference"
   ]
  },
  {
   "cell_type": "code",
   "execution_count": 8,
   "id": "a33948e8",
   "metadata": {},
   "outputs": [
    {
     "name": "stdout",
     "output_type": "stream",
     "text": [
      "==((====))==  Unsloth 2025.6.12: Fast Llama patching. Transformers: 4.53.1.\n",
      "   \\\\   /|    NVIDIA GeForce RTX 4060 Ti. Num GPUs = 1. Max memory: 15.996 GB. Platform: Linux.\n",
      "O^O/ \\_/ \\    Torch: 2.7.0+cu126. CUDA: 8.9. CUDA Toolkit: 12.6. Triton: 3.3.0\n",
      "\\        /    Bfloat16 = TRUE. FA [Xformers = 0.0.30. FA2 = False]\n",
      " \"-____-\"     Free license: http://github.com/unslothai/unsloth\n",
      "Unsloth: Fast downloading is enabled - ignore downloading bars which are red colored!\n"
     ]
    },
    {
     "name": "stderr",
     "output_type": "stream",
     "text": [
      "Unsloth 2025.6.12 patched 28 layers with 28 QKV layers, 28 O layers and 28 MLP layers.\n",
      "The following generation flags are not valid and may be ignored: ['temperature', 'top_p']. Set `TRANSFORMERS_VERBOSITY=info` for more details.\n",
      "LlamaForCausalLM has no `_prepare_4d_causal_attention_mask_with_cache_position` method defined in its base modeling class. Compiled forward passes will be sub-optimal. If you're writing code, see Llama for an example implementation. If you're a user, please report this issue on GitHub.\n"
     ]
    },
    {
     "name": "stdout",
     "output_type": "stream",
     "text": [
      "\n",
      "--- Output ---\n",
      " Question: What is the capital of France?\n",
      "Choices:\n",
      "A. Berlin\n",
      "B. Paris\n",
      "C. Madrid\n",
      "D. Rome\n",
      "Answer: B\n"
     ]
    }
   ],
   "source": [
    "def infer_from_hf(\n",
    "    model_path=\"dainlieu/Llama-3.2-3B-bnb-4bit-MedMCQA\",\n",
    "    prompt=\"\"\"Question: What is the capital of France?\n",
    "Choices:\n",
    "A. Berlin\n",
    "B. Paris\n",
    "C. Madrid\n",
    "D. Rome\n",
    "Answer:\"\"\"\n",
    "):\n",
    "    # ✅ Load mô hình từ Hugging Face đã fine-tune\n",
    "    model, tokenizer = FastLanguageModel.from_pretrained(\n",
    "        model_name = model_path,\n",
    "        max_seq_length = 2048,\n",
    "        dtype = None,              # Tự chọn float16/bfloat16\n",
    "        load_in_4bit = True,\n",
    "    )\n",
    "\n",
    "    model.eval()\n",
    "    inputs = tokenizer(prompt, return_tensors=\"pt\").to(model.device)\n",
    "    outputs = model.generate(\n",
    "        **inputs,\n",
    "        max_new_tokens=32,\n",
    "        do_sample=False,\n",
    "        temperature=0.7,\n",
    "        top_p=0.95,\n",
    "    )\n",
    "    answer = tokenizer.decode(outputs[0], skip_special_tokens=True)\n",
    "    print(\"\\n--- Output ---\\n\", answer)\n",
    "\n",
    "# Gọi hàm\n",
    "infer_from_hf()"
   ]
  }
 ],
 "metadata": {
  "kernelspec": {
   "display_name": "Python 3",
   "language": "python",
   "name": "python3"
  },
  "language_info": {
   "codemirror_mode": {
    "name": "ipython",
    "version": 3
   },
   "file_extension": ".py",
   "mimetype": "text/x-python",
   "name": "python",
   "nbconvert_exporter": "python",
   "pygments_lexer": "ipython3",
   "version": "3.12.3"
  }
 },
 "nbformat": 4,
 "nbformat_minor": 5
}
