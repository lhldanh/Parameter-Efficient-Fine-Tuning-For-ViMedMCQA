{
 "cells": [
  {
   "cell_type": "markdown",
   "id": "0849840b",
   "metadata": {},
   "source": [
    "# Evaluation Report – MedMCQA (LoRA 4-bit)\n"
   ]
  },
  {
   "cell_type": "markdown",
   "id": "f2ab41b9",
   "metadata": {},
   "source": [
    "## Mô hình\n",
    "- **Model name**: LLaMA 3.2B 4bit LoRA\n",
    "- **LoRA adapter**: QLoRA / PEFT\n",
    "- **Tokenizer**: AutoTokenizer (LLaMA-compatible)\n",
    "- **Fine-tune Framework**: `trl` + `SFTTrainer`\n",
    "\n",
    "## Tham số huấn luyện\n",
    "- `learning_rate`: 3e-4\n",
    "- `lr_scheduler_type`: linear\n",
    "- `batch_size`: 32\n",
    "- `gradient_accumulation_steps`: 8\n",
    "- `epochs`: 2\n",
    "- `eval_steps`: 50\n",
    "- `save_total_limit`: 1\n",
    "- `optim`: adamw_8bit\n",
    "- `fp16`: `True` / `False` (tùy GPU)\n"
   ]
  },
  {
   "cell_type": "markdown",
   "id": "47df3b53",
   "metadata": {},
   "source": [
    "## Đánh giá mô hình (Accuracy & F1)"
   ]
  },
  {
   "cell_type": "markdown",
   "id": "cc91c212",
   "metadata": {},
   "source": [
    "import thư viện"
   ]
  },
  {
   "cell_type": "code",
   "execution_count": 1,
   "id": "6feef039",
   "metadata": {},
   "outputs": [
    {
     "name": "stderr",
     "output_type": "stream",
     "text": [
      "f:\\Parameter-Efficient-Fine-Tuning-For-ViMedMCQA\\venv\\lib\\site-packages\\tqdm\\auto.py:21: TqdmWarning: IProgress not found. Please update jupyter and ipywidgets. See https://ipywidgets.readthedocs.io/en/stable/user_install.html\n",
      "  from .autonotebook import tqdm as notebook_tqdm\n"
     ]
    }
   ],
   "source": [
    "from transformers import logging\n",
    "from peft import PeftModel\n",
    "logging.set_verbosity_error()\n",
    "from transformers import AutoModelForCausalLM, AutoTokenizer\n",
    "\n",
    "import re\n",
    "import evaluate\n",
    "from sklearn.metrics import classification_report, confusion_matrix\n",
    "import seaborn as sns\n",
    "import matplotlib.pyplot as plt\n",
    "import torch\n",
    "from datasets import load_dataset"
   ]
  },
  {
   "cell_type": "markdown",
   "id": "366b12de",
   "metadata": {},
   "source": [
    "load mô hình"
   ]
  },
  {
   "cell_type": "code",
   "execution_count": 2,
   "id": "3adafc6d",
   "metadata": {},
   "outputs": [
    {
     "name": "stderr",
     "output_type": "stream",
     "text": [
      "f:\\Parameter-Efficient-Fine-Tuning-For-ViMedMCQA\\venv\\lib\\site-packages\\transformers\\quantizers\\auto.py:222: UserWarning: You passed `quantization_config` or equivalent parameters to `from_pretrained` but the model you're loading already has a `quantization_config` attribute. The `quantization_config` from the model will be used.\n",
      "  warnings.warn(warning_msg)\n"
     ]
    },
    {
     "data": {
      "text/plain": [
       "PeftModelForCausalLM(\n",
       "  (base_model): LoraModel(\n",
       "    (model): LlamaForCausalLM(\n",
       "      (model): LlamaModel(\n",
       "        (embed_tokens): Embedding(128256, 3072, padding_idx=128004)\n",
       "        (layers): ModuleList(\n",
       "          (0-27): 28 x LlamaDecoderLayer(\n",
       "            (self_attn): LlamaAttention(\n",
       "              (q_proj): lora.Linear4bit(\n",
       "                (base_layer): Linear4bit(in_features=3072, out_features=3072, bias=False)\n",
       "                (lora_dropout): ModuleDict(\n",
       "                  (default): Identity()\n",
       "                )\n",
       "                (lora_A): ModuleDict(\n",
       "                  (default): Linear(in_features=3072, out_features=8, bias=False)\n",
       "                )\n",
       "                (lora_B): ModuleDict(\n",
       "                  (default): Linear(in_features=8, out_features=3072, bias=False)\n",
       "                )\n",
       "                (lora_embedding_A): ParameterDict()\n",
       "                (lora_embedding_B): ParameterDict()\n",
       "                (lora_magnitude_vector): ModuleDict()\n",
       "              )\n",
       "              (k_proj): lora.Linear4bit(\n",
       "                (base_layer): Linear4bit(in_features=3072, out_features=1024, bias=False)\n",
       "                (lora_dropout): ModuleDict(\n",
       "                  (default): Identity()\n",
       "                )\n",
       "                (lora_A): ModuleDict(\n",
       "                  (default): Linear(in_features=3072, out_features=8, bias=False)\n",
       "                )\n",
       "                (lora_B): ModuleDict(\n",
       "                  (default): Linear(in_features=8, out_features=1024, bias=False)\n",
       "                )\n",
       "                (lora_embedding_A): ParameterDict()\n",
       "                (lora_embedding_B): ParameterDict()\n",
       "                (lora_magnitude_vector): ModuleDict()\n",
       "              )\n",
       "              (v_proj): lora.Linear4bit(\n",
       "                (base_layer): Linear4bit(in_features=3072, out_features=1024, bias=False)\n",
       "                (lora_dropout): ModuleDict(\n",
       "                  (default): Identity()\n",
       "                )\n",
       "                (lora_A): ModuleDict(\n",
       "                  (default): Linear(in_features=3072, out_features=8, bias=False)\n",
       "                )\n",
       "                (lora_B): ModuleDict(\n",
       "                  (default): Linear(in_features=8, out_features=1024, bias=False)\n",
       "                )\n",
       "                (lora_embedding_A): ParameterDict()\n",
       "                (lora_embedding_B): ParameterDict()\n",
       "                (lora_magnitude_vector): ModuleDict()\n",
       "              )\n",
       "              (o_proj): lora.Linear4bit(\n",
       "                (base_layer): Linear4bit(in_features=3072, out_features=3072, bias=False)\n",
       "                (lora_dropout): ModuleDict(\n",
       "                  (default): Identity()\n",
       "                )\n",
       "                (lora_A): ModuleDict(\n",
       "                  (default): Linear(in_features=3072, out_features=8, bias=False)\n",
       "                )\n",
       "                (lora_B): ModuleDict(\n",
       "                  (default): Linear(in_features=8, out_features=3072, bias=False)\n",
       "                )\n",
       "                (lora_embedding_A): ParameterDict()\n",
       "                (lora_embedding_B): ParameterDict()\n",
       "                (lora_magnitude_vector): ModuleDict()\n",
       "              )\n",
       "            )\n",
       "            (mlp): LlamaMLP(\n",
       "              (gate_proj): lora.Linear4bit(\n",
       "                (base_layer): Linear4bit(in_features=3072, out_features=8192, bias=False)\n",
       "                (lora_dropout): ModuleDict(\n",
       "                  (default): Identity()\n",
       "                )\n",
       "                (lora_A): ModuleDict(\n",
       "                  (default): Linear(in_features=3072, out_features=8, bias=False)\n",
       "                )\n",
       "                (lora_B): ModuleDict(\n",
       "                  (default): Linear(in_features=8, out_features=8192, bias=False)\n",
       "                )\n",
       "                (lora_embedding_A): ParameterDict()\n",
       "                (lora_embedding_B): ParameterDict()\n",
       "                (lora_magnitude_vector): ModuleDict()\n",
       "              )\n",
       "              (up_proj): lora.Linear4bit(\n",
       "                (base_layer): Linear4bit(in_features=3072, out_features=8192, bias=False)\n",
       "                (lora_dropout): ModuleDict(\n",
       "                  (default): Identity()\n",
       "                )\n",
       "                (lora_A): ModuleDict(\n",
       "                  (default): Linear(in_features=3072, out_features=8, bias=False)\n",
       "                )\n",
       "                (lora_B): ModuleDict(\n",
       "                  (default): Linear(in_features=8, out_features=8192, bias=False)\n",
       "                )\n",
       "                (lora_embedding_A): ParameterDict()\n",
       "                (lora_embedding_B): ParameterDict()\n",
       "                (lora_magnitude_vector): ModuleDict()\n",
       "              )\n",
       "              (down_proj): lora.Linear4bit(\n",
       "                (base_layer): Linear4bit(in_features=8192, out_features=3072, bias=False)\n",
       "                (lora_dropout): ModuleDict(\n",
       "                  (default): Identity()\n",
       "                )\n",
       "                (lora_A): ModuleDict(\n",
       "                  (default): Linear(in_features=8192, out_features=8, bias=False)\n",
       "                )\n",
       "                (lora_B): ModuleDict(\n",
       "                  (default): Linear(in_features=8, out_features=3072, bias=False)\n",
       "                )\n",
       "                (lora_embedding_A): ParameterDict()\n",
       "                (lora_embedding_B): ParameterDict()\n",
       "                (lora_magnitude_vector): ModuleDict()\n",
       "              )\n",
       "              (act_fn): SiLU()\n",
       "            )\n",
       "            (input_layernorm): LlamaRMSNorm((3072,), eps=1e-05)\n",
       "            (post_attention_layernorm): LlamaRMSNorm((3072,), eps=1e-05)\n",
       "          )\n",
       "        )\n",
       "        (norm): LlamaRMSNorm((3072,), eps=1e-05)\n",
       "        (rotary_emb): LlamaRotaryEmbedding()\n",
       "      )\n",
       "      (lm_head): Linear(in_features=3072, out_features=128256, bias=False)\n",
       "    )\n",
       "  )\n",
       ")"
      ]
     },
     "execution_count": 2,
     "metadata": {},
     "output_type": "execute_result"
    }
   ],
   "source": [
    "model_path=\"dainlieu/Llama-3.2-3B-bnb-4bit-MedMCQA\"\n",
    "\n",
    "# Load base model (bnb-4bit)\n",
    "base_model = AutoModelForCausalLM.from_pretrained(\n",
    "    \"unsloth/llama-3.2-3b-bnb-4bit\",\n",
    "    device_map=\"auto\",               # cho dùng GPU\n",
    "    load_in_4bit=True\n",
    ")\n",
    "\n",
    "# Load tokenizer\n",
    "tokenizer = AutoTokenizer.from_pretrained(\"unsloth/llama-3.2-3b-bnb-4bit\")\n",
    "\n",
    "# Load adapter (LoRA fine-tune)\n",
    "model = PeftModel.from_pretrained(\n",
    "    base_model,\n",
    "    \"dainlieu/Llama-3.2-3B-bnb-4bit-MedMCQA\"\n",
    ")\n",
    "\n",
    "model.eval()"
   ]
  },
  {
   "cell_type": "markdown",
   "id": "207b29c9",
   "metadata": {},
   "source": [
    "Mẫu prompt và mapping"
   ]
  },
  {
   "cell_type": "code",
   "execution_count": 3,
   "id": "92cdbf24",
   "metadata": {},
   "outputs": [],
   "source": [
    "# Mẫu định dạng prompt đầu vào cho mô hình\n",
    "data_prompt = \"\"\"Question: {}\n",
    "Choices:\n",
    "{}\n",
    "Answer\"\"\"\n",
    "\n",
    "# Mapping chỉ số sang nhãn (ngược lại bạn có thể dùng trong đánh giá)\n",
    "id2label = {0: 'A', 1: 'B', 2: 'C', 3: 'D'}"
   ]
  },
  {
   "cell_type": "markdown",
   "id": "ea0d1bf6",
   "metadata": {},
   "source": [
    "Hàm tạo prompt từ tập dữ liệu"
   ]
  },
  {
   "cell_type": "code",
   "execution_count": 49,
   "id": "a0817dcc",
   "metadata": {},
   "outputs": [],
   "source": [
    "def formatting_prompt(examples):\n",
    "    \"\"\"\n",
    "    Tạo prompt theo định dạng chuẩn từ các cột dữ liệu đầu vào.\n",
    "    Làm sạch câu hỏi bằng cách loại bỏ các ký tự không phải chữ/số hoặc khoảng trắng.\n",
    "    Trả về danh sách prompt ở dạng {\"text\": [prompt1, prompt2, ...]}.\n",
    "    \"\"\"\n",
    "    questions = examples[\"question\"]\n",
    "    opas = examples[\"opa\"]\n",
    "    opbs = examples[\"opb\"]\n",
    "    opcs = examples[\"opc\"]\n",
    "    opds = examples[\"opd\"]\n",
    "\n",
    "    texts = []\n",
    "    for idx in range(len(questions)):\n",
    "        # Làm sạch question: chỉ giữ lại chữ, số và khoảng trắng\n",
    "        raw_question = questions[idx]\n",
    "        question = ''.join(c for c in raw_question if c.isalnum() or c.isspace()).strip()\n",
    "\n",
    "        choices = f\"A. {opas[idx]} B. {opbs[idx]} C. {opcs[idx]} D. {opds[idx]}\"\n",
    "        prompt = data_prompt.format(question, choices)\n",
    "        texts.append(prompt)\n",
    "\n",
    "    return {\"text\": texts}"
   ]
  },
  {
   "cell_type": "markdown",
   "id": "c2f123eb",
   "metadata": {},
   "source": [
    "Hàm trích xuất đáp án từ mô hình (A/B/C/D → 0–3)"
   ]
  },
  {
   "cell_type": "code",
   "execution_count": 21,
   "id": "4cd06646",
   "metadata": {},
   "outputs": [],
   "source": [
    "def extract_answer_index(text):\n",
    "    \"\"\"\n",
    "    Trích xuất ký tự A/B/C/D sau 'Answer:' và chuyển thành chỉ số 0–3.\n",
    "    Trả về -1 nếu không khớp.\n",
    "    \"\"\"\n",
    "    match = re.search(r\"Answer:\\s*([ABCD])\\b\", text)\n",
    "    if match:\n",
    "        letter = match.group(1)\n",
    "        return {'A': 0, 'B': 1, 'C': 2, 'D': 3}[letter]\n",
    "    return -1"
   ]
  },
  {
   "cell_type": "code",
   "execution_count": 15,
   "id": "6fa28db6",
   "metadata": {},
   "outputs": [
    {
     "name": "stdout",
     "output_type": "stream",
     "text": [
      "Answer: A => 0\n",
      "Answer: B => 1\n",
      "Answer: D => 3\n",
      "Answer: C. Some explanation => 2\n",
      "Answer: Z => -1\n",
      "Nothing Bang => -1\n"
     ]
    }
   ],
   "source": [
    "# Kiểm thử nhanh\n",
    "test_cases = [\n",
    "    \"Answer: A\",     # ✅ 0\n",
    "    \"Answer: B\",     # ✅ 1\n",
    "    \"Answer: D\",     # ✅ 3\n",
    "    \"Answer: C. Some explanation\",  # ✅ 2\n",
    "    \"Answer: Z\",     # ❌ -1\n",
    "    \"Nothing Bang\",  # ❌ -1\n",
    "]\n",
    "\n",
    "for text in test_cases:\n",
    "    print(f\"{text} => {extract_answer_index(text)}\")"
   ]
  },
  {
   "cell_type": "markdown",
   "id": "32611a55",
   "metadata": {},
   "source": [
    "load dữ liệu"
   ]
  },
  {
   "cell_type": "code",
   "execution_count": 50,
   "id": "8030c410",
   "metadata": {},
   "outputs": [
    {
     "name": "stderr",
     "output_type": "stream",
     "text": [
      "Map: 100%|██████████| 4183/4183 [00:00<00:00, 28759.52 examples/s]\n"
     ]
    }
   ],
   "source": [
    "ds = load_dataset(\"openlifescienceai/medmcqa\", split=\"validation\")\n",
    "ds_val = ds.map(formatting_prompt, batched=True)"
   ]
  },
  {
   "cell_type": "code",
   "execution_count": 51,
   "id": "2b95d32a",
   "metadata": {},
   "outputs": [
    {
     "name": "stdout",
     "output_type": "stream",
     "text": [
      "Question: In a study two groups of newborns are checked for their weights based on whether their mothers received food supplements or not The appropriate test which can be used for comparing the data is\n",
      "Choices:\n",
      "A. Chi square test B. Paired T-test C. Student's T-test D. Fischer exact test\n",
      "Answer\n"
     ]
    }
   ],
   "source": [
    "print(ds_val['text'][29])"
   ]
  },
  {
   "cell_type": "markdown",
   "id": "14018d5a",
   "metadata": {},
   "source": [
    "thử dự đoán với 1 mẫu"
   ]
  },
  {
   "cell_type": "code",
   "execution_count": 52,
   "id": "a6344407",
   "metadata": {},
   "outputs": [
    {
     "name": "stdout",
     "output_type": "stream",
     "text": [
      "Question: In a study two groups of newborns are checked for their weights based on whether their mothers received food supplements or not The appropriate test which can be used for comparing the data is\n",
      "Choices:\n",
      "A. Chi square test B. Paired T-test C. Student's T-test D. Fischer exact test\n",
      "Answer:\n",
      "The appropriate test which can be used for comparing the data is\n",
      "Student's T-test\n",
      "\n",
      "### Question:\n",
      "A 40 year old male patient presents with a\n"
     ]
    }
   ],
   "source": [
    "inputs = tokenizer(ds_val['text'][29], return_tensors=\"pt\").to(model.device)\n",
    "outputs = model.generate(\n",
    "    **inputs,\n",
    "    max_new_tokens=32,\n",
    "    do_sample=False,\n",
    "    pad_token_id=tokenizer.pad_token_id\n",
    ")\n",
    "\n",
    "print(tokenizer.decode(outputs[0], skip_special_tokens=True))"
   ]
  },
  {
   "cell_type": "markdown",
   "id": "f0a22f8b",
   "metadata": {},
   "source": [
    "Dự đoán với 100 mẫu với model đã fine-tune"
   ]
  },
  {
   "cell_type": "code",
   "execution_count": 64,
   "id": "35bc3acb",
   "metadata": {},
   "outputs": [
    {
     "name": "stderr",
     "output_type": "stream",
     "text": [
      "🔄 Đang sinh từng câu: 100%|██████████| 100/100 [02:48<00:00,  1.69s/it]\n"
     ]
    }
   ],
   "source": [
    "from tqdm import tqdm\n",
    "\n",
    "res1 = []\n",
    "ds_val500 = ds_val['text'][:100]\n",
    "\n",
    "for i in tqdm(range(len(ds_val500)), desc=\"🔄 Đang sinh từng câu\"):\n",
    "\n",
    "    prompt = ds_val500[i]  # ✅ lấy từng câu riêng lẻ\n",
    "    \n",
    "    inputs = tokenizer(prompt, return_tensors=\"pt\").to(model.device)\n",
    "\n",
    "    with torch.no_grad():\n",
    "        outputs = model.generate(\n",
    "            **inputs,\n",
    "            max_new_tokens=32,\n",
    "            do_sample=False,\n",
    "        )\n",
    "\n",
    "    answer = tokenizer.decode(outputs[0], skip_special_tokens=True)\n",
    "    res1.append(extract_answer_index(answer))"
   ]
  },
  {
   "cell_type": "markdown",
   "id": "d640fb9e",
   "metadata": {},
   "source": [
    "Đánh giá model đã fine tune"
   ]
  },
  {
   "cell_type": "code",
   "execution_count": 65,
   "id": "40c7083a",
   "metadata": {},
   "outputs": [
    {
     "name": "stdout",
     "output_type": "stream",
     "text": [
      "🎯 Accuracy (hợp lệ): 37.63 %\n",
      "\n",
      "⚠️ Mô hình trả về -1 (Không trả về đáp án) cho 7/100 mẫu (7.0%):  [17, 29, 39, 51, 59, 62, 69]\n",
      "\n",
      "📋 Classification Report (chỉ mẫu hợp lệ):\n",
      "              precision    recall  f1-score   support\n",
      "\n",
      "           A       0.40      0.89      0.55        36\n",
      "           B       0.50      0.04      0.07        26\n",
      "           C       0.50      0.06      0.11        16\n",
      "           D       0.12      0.07      0.09        15\n",
      "\n",
      "    accuracy                           0.38        93\n",
      "   macro avg       0.38      0.26      0.20        93\n",
      "weighted avg       0.40      0.38      0.26        93\n",
      "\n"
     ]
    },
    {
     "data": {
      "image/png": "[encoded data removed]",
      "text/plain": [
       "<Figure size 600x500 with 2 Axes>"
      ]
     },
     "metadata": {},
     "output_type": "display_data"
    }
   ],
   "source": [
    "# ✅ Ground truth\n",
    "gts = ds_val['cop'][:100] # Đảm bảo là list[int]\n",
    "# ✅ res = [0, 1, 2, 3, -1, ...]  # đã có từ trước\n",
    "\n",
    "# ✅ Tính accuracy (chỉ trên mẫu hợp lệ: 0–3)\n",
    "valid_indices = []\n",
    "invalid_indices = []\n",
    "\n",
    "for i, r in enumerate(res1):\n",
    "    if r in [0, 1, 2, 3]:\n",
    "        valid_indices.append(i)\n",
    "    else:\n",
    "        invalid_indices.append(i)\n",
    "gts_valid = [gts[i] for i in valid_indices]\n",
    "res_valid = [res1[i] for i in valid_indices]\n",
    "\n",
    "# 📌 Hugging Face Evaluate - Accuracy\n",
    "accuracy = evaluate.load(\"accuracy\")\n",
    "acc_result = accuracy.compute(predictions=res_valid, references=gts_valid)\n",
    "print(\"🎯 Accuracy (hợp lệ):\", round(acc_result['accuracy'] * 100, 2), \"%\")\n",
    "\n",
    "# ✅ Thống kê số mẫu invalid\n",
    "num_invalid = len(invalid_indices)\n",
    "print(f\"\\n⚠️ Mô hình trả về -1 (Không trả về đáp án) cho {num_invalid}/{len(res1)} mẫu ({round(num_invalid/len(res1)*100, 2)}%): \", invalid_indices)\n",
    "\n",
    "# 📌 Classification Report (chỉ cho hợp lệ)\n",
    "print(\"\\n📋 Classification Report (chỉ mẫu hợp lệ):\")\n",
    "print(classification_report(gts_valid, res_valid, labels=[0,1,2,3], target_names=[\"A\", \"B\", \"C\", \"D\"]))\n",
    "\n",
    "# ✅ Mở rộng Confusion Matrix: gồm cả -1\n",
    "labels_all = [-1, 0, 1, 2, 3]\n",
    "target_names = [\"Invalid\", \"A\", \"B\", \"C\", \"D\"]\n",
    "\n",
    "cm = confusion_matrix(gts, res1, labels=labels_all)\n",
    "\n",
    "# 📊 Vẽ heatmap\n",
    "plt.figure(figsize=(6, 5))\n",
    "sns.heatmap(cm, annot=True, fmt='d',\n",
    "            xticklabels=target_names,\n",
    "            yticklabels=target_names,\n",
    "            cmap=\"Blues\")\n",
    "plt.xlabel(\"Predicted\")\n",
    "plt.ylabel(\"True\")\n",
    "plt.title(\"Confusion Matrix (bao gồm cả -1)\")\n",
    "plt.show()"
   ]
  },
  {
   "cell_type": "markdown",
   "id": "2f6d5e39",
   "metadata": {},
   "source": [
    "Dự đoán với 100 mẫu với base model"
   ]
  },
  {
   "cell_type": "code",
   "execution_count": 66,
   "id": "7fc8ebdc",
   "metadata": {},
   "outputs": [
    {
     "name": "stderr",
     "output_type": "stream",
     "text": [
      "🔄 Đang sinh từng câu:   0%|          | 0/100 [00:00<?, ?it/s]"
     ]
    },
    {
     "name": "stderr",
     "output_type": "stream",
     "text": [
      "🔄 Đang sinh từng câu: 100%|██████████| 100/100 [04:03<00:00,  2.44s/it]\n"
     ]
    }
   ],
   "source": [
    "from tqdm import tqdm\n",
    "\n",
    "res = []\n",
    "ds_val500 = ds_val['text'][:100]\n",
    "\n",
    "for i in tqdm(range(len(ds_val500)), desc=\"🔄 Đang sinh từng câu\"):\n",
    "\n",
    "    prompt = ds_val500[i]  # ✅ lấy từng câu riêng lẻ\n",
    "    \n",
    "    inputs = tokenizer(prompt, return_tensors=\"pt\").to(model.device)\n",
    "\n",
    "    with torch.no_grad():\n",
    "        outputs = base_model.generate(\n",
    "            **inputs,\n",
    "            max_new_tokens=32,\n",
    "            do_sample=False,\n",
    "        )\n",
    "\n",
    "    answer = tokenizer.decode(outputs[0], skip_special_tokens=True)\n",
    "    res.append(extract_answer_index(answer))"
   ]
  },
  {
   "cell_type": "markdown",
   "id": "aff92ee6",
   "metadata": {},
   "source": [
    "Đánh giá model gốc"
   ]
  },
  {
   "cell_type": "code",
   "execution_count": 67,
   "id": "aa34baf1",
   "metadata": {},
   "outputs": [
    {
     "name": "stdout",
     "output_type": "stream",
     "text": [
      "🎯 Accuracy (hợp lệ): 37.63 %\n",
      "\n",
      "⚠️ Mô hình trả về -1 (Không trả về đáp án) cho 7/100 mẫu (7.0%):  [17, 29, 39, 51, 59, 62, 69]\n",
      "\n",
      "📋 Classification Report (chỉ mẫu hợp lệ):\n",
      "              precision    recall  f1-score   support\n",
      "\n",
      "           A       0.40      0.89      0.55        36\n",
      "           B       0.50      0.04      0.07        26\n",
      "           C       0.50      0.06      0.11        16\n",
      "           D       0.12      0.07      0.09        15\n",
      "\n",
      "    accuracy                           0.38        93\n",
      "   macro avg       0.38      0.26      0.20        93\n",
      "weighted avg       0.40      0.38      0.26        93\n",
      "\n"
     ]
    },
    {
     "data": {
      "image/png": "[encoded data removed]",
      "text/plain": [
       "<Figure size 600x500 with 2 Axes>"
      ]
     },
     "metadata": {},
     "output_type": "display_data"
    }
   ],
   "source": [
    "# ✅ Ground truth\n",
    "gts = ds_val['cop'][:100] # Đảm bảo là list[int]\n",
    "# ✅ res = [0, 1, 2, 3, -1, ...]  # đã có từ trước\n",
    "\n",
    "# ✅ Tính accuracy (chỉ trên mẫu hợp lệ: 0–3)\n",
    "valid_indices = []\n",
    "invalid_indices = []\n",
    "\n",
    "for i, r in enumerate(res):\n",
    "    if r in [0, 1, 2, 3]:\n",
    "        valid_indices.append(i)\n",
    "    else:\n",
    "        invalid_indices.append(i)\n",
    "gts_valid = [gts[i] for i in valid_indices]\n",
    "res_valid = [res[i] for i in valid_indices]\n",
    "\n",
    "# 📌 Hugging Face Evaluate - Accuracy\n",
    "accuracy = evaluate.load(\"accuracy\")\n",
    "acc_result = accuracy.compute(predictions=res_valid, references=gts_valid)\n",
    "print(\"🎯 Accuracy (hợp lệ):\", round(acc_result['accuracy'] * 100, 2), \"%\")\n",
    "\n",
    "# ✅ Thống kê số mẫu invalid\n",
    "num_invalid = len(invalid_indices)\n",
    "print(f\"\\n⚠️ Mô hình trả về -1 (Không trả về đáp án) cho {num_invalid}/{len(res)} mẫu ({round(num_invalid/len(res)*100, 2)}%): \", invalid_indices)\n",
    "\n",
    "# 📌 Classification Report (chỉ cho hợp lệ)\n",
    "print(\"\\n📋 Classification Report (chỉ mẫu hợp lệ):\")\n",
    "print(classification_report(gts_valid, res_valid, labels=[0,1,2,3], target_names=[\"A\", \"B\", \"C\", \"D\"]))\n",
    "\n",
    "# ✅ Mở rộng Confusion Matrix: gồm cả -1\n",
    "labels_all = [-1, 0, 1, 2, 3]\n",
    "target_names = [\"Invalid\", \"A\", \"B\", \"C\", \"D\"]\n",
    "\n",
    "cm = confusion_matrix(gts, res, labels=labels_all)\n",
    "\n",
    "# 📊 Vẽ heatmap\n",
    "plt.figure(figsize=(6, 5))\n",
    "sns.heatmap(cm, annot=True, fmt='d',\n",
    "            xticklabels=target_names,\n",
    "            yticklabels=target_names,\n",
    "            cmap=\"Blues\")\n",
    "plt.xlabel(\"Predicted\")\n",
    "plt.ylabel(\"True\")\n",
    "plt.title(\"Confusion Matrix (bao gồm cả -1)\")\n",
    "plt.show()"
   ]
  }
 ],
 "metadata": {
  "kernelspec": {
   "display_name": "venv",
   "language": "python",
   "name": "python3"
  },
  "language_info": {
   "codemirror_mode": {
    "name": "ipython",
    "version": 3
   },
   "file_extension": ".py",
   "mimetype": "text/x-python",
   "name": "python",
   "nbconvert_exporter": "python",
   "pygments_lexer": "ipython3",
   "version": "3.10.8"
  }
 },
 "nbformat": 4,
 "nbformat_minor": 5
}
