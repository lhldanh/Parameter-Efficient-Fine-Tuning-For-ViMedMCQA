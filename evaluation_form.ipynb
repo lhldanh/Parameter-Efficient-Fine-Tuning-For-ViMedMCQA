{
 "cells": [
  {
   "cell_type": "markdown",
   "id": "0849840b",
   "metadata": {},
   "source": [
    "# Đánh giá mô hình Fine-tuned: MedMCQA (LoRA 4-bit)\n"
   ]
  },
  {
   "cell_type": "markdown",
   "id": "1904bf6b",
   "metadata": {},
   "source": [
    "## 1. Model & Training Summary"
   ]
  },
  {
   "cell_type": "markdown",
   "id": "f2ab41b9",
   "metadata": {},
   "source": [
    "### 1.1 Thông tin mô hình\n",
    "- `Kiến trúc`: LLaMA 3.2 1B\n",
    "\n",
    "- `Kích thước`: 1B tham số\n",
    "\n",
    "- `Định dạng`: 4-bit (bnb)\n",
    "\n",
    "- `Kỹ thuật fine-tune`: PEFT + LoRA\n",
    "\n",
    "- `Framework`: UnsLoTh + Hugging Face Transformers\n",
    "\n",
    "### 1.2 Tham số huấn luyện\n",
    "- `learning_rate`: 3e-4\n",
    "\n",
    "- `lr_scheduler_type`: linear\n",
    "\n",
    "- `batch_size`: 32\n",
    "\n",
    "- `gradient_accumulation_steps`: 8\n",
    "\n",
    "- `epochs`: 2\n",
    "\n",
    "- `eval_steps`: 50\n",
    "\n",
    "- `save_total_limit`: 1\n",
    "\n",
    "- `optim`: adamw_8bit\n",
    "\n",
    "- `fp16`: `True` / `False` (tùy GPU)\n",
    "\n",
    "### 1.3 Thông tin dataset\n",
    "- `Dataset`: openlifescienceai/medmcqa\n",
    "\n",
    "- `Tập dùng huấn luyện`: train\n",
    "\n",
    "- `Tập dùng đánh giá`: validation\n",
    "\n",
    "- `Trường huấn luyện:` \"text\" – đã gộp question, opa, opb, opc, opd\n",
    "\n",
    "- `Trường nhãn đúng (ground truth)`: \"cop\" – đáp án đúng: \"A\", \"B\", \"C\", \"D\""
   ]
  },
  {
   "cell_type": "markdown",
   "id": "c61fa006",
   "metadata": {},
   "source": [
    "## 2. Evaluation Objectives"
   ]
  },
  {
   "cell_type": "markdown",
   "id": "caf28f40",
   "metadata": {},
   "source": [
    "- Đo độ chính xác (Accuracy) trên tập `validation`\n",
    "\n",
    "- Phân tích Confusion Matrix giữa các lựa chọn `A–D` và `invalid`\n",
    "\n",
    "- So sánh giữa `base model` và `fintuned model`\n",
    "\n",
    "- Trích `classification_report` để đo Precision, Recall, F1 theo từng nhãn\n",
    "\n",
    "- Phân tích lỗi chi tiết (câu hỏi nào sai, nhầm sang lựa chọn nào)\n",
    "\n",
    "- Lưu và trình bày ví dụ dự đoán sai để kiểm tra thủ công"
   ]
  },
  {
   "cell_type": "markdown",
   "id": "2bb95024",
   "metadata": {},
   "source": [
    "## 3. Setup & Utilities"
   ]
  },
  {
   "cell_type": "markdown",
   "id": "cc91c212",
   "metadata": {},
   "source": [
    "### 3.1 import thư viện"
   ]
  },
  {
   "cell_type": "code",
   "execution_count": 2,
   "id": "6feef039",
   "metadata": {},
   "outputs": [
    {
     "name": "stderr",
     "output_type": "stream",
     "text": [
      "f:\\Parameter-Efficient-Fine-Tuning-For-ViMedMCQA\\venv\\lib\\site-packages\\tqdm\\auto.py:21: TqdmWarning: IProgress not found. Please update jupyter and ipywidgets. See https://ipywidgets.readthedocs.io/en/stable/user_install.html\n",
      "  from .autonotebook import tqdm as notebook_tqdm\n"
     ]
    }
   ],
   "source": [
    "from transformers import logging\n",
    "from peft import PeftModel\n",
    "import pandas as pd\n",
    "logging.set_verbosity_error()\n",
    "from transformers import AutoModelForCausalLM, AutoTokenizer\n",
    "\n",
    "import re\n",
    "from tqdm import tqdm\n",
    "import evaluate\n",
    "from sklearn.metrics import classification_report, confusion_matrix\n",
    "import seaborn as sns\n",
    "import matplotlib.pyplot as plt\n",
    "import torch\n",
    "from datasets import load_dataset"
   ]
  },
  {
   "cell_type": "markdown",
   "id": "366b12de",
   "metadata": {},
   "source": [
    "### 3.2 Load dữ liệu để đánh giá"
   ]
  },
  {
   "cell_type": "code",
   "execution_count": 3,
   "id": "5c27cc48",
   "metadata": {},
   "outputs": [],
   "source": [
    "ds = load_dataset(\"openlifescienceai/medmcqa\", split=\"validation\")"
   ]
  },
  {
   "cell_type": "markdown",
   "id": "70640761",
   "metadata": {},
   "source": [
    "### 3.3 Load model đã fine-tune"
   ]
  },
  {
   "cell_type": "code",
   "execution_count": 4,
   "id": "3adafc6d",
   "metadata": {},
   "outputs": [
    {
     "name": "stderr",
     "output_type": "stream",
     "text": [
      "f:\\Parameter-Efficient-Fine-Tuning-For-ViMedMCQA\\venv\\lib\\site-packages\\transformers\\quantizers\\auto.py:222: UserWarning: You passed `quantization_config` or equivalent parameters to `from_pretrained` but the model you're loading already has a `quantization_config` attribute. The `quantization_config` from the model will be used.\n",
      "  warnings.warn(warning_msg)\n"
     ]
    },
    {
     "data": {
      "text/plain": [
       "PeftModelForCausalLM(\n",
       "  (base_model): LoraModel(\n",
       "    (model): LlamaForCausalLM(\n",
       "      (model): LlamaModel(\n",
       "        (embed_tokens): Embedding(128256, 3072, padding_idx=128004)\n",
       "        (layers): ModuleList(\n",
       "          (0-27): 28 x LlamaDecoderLayer(\n",
       "            (self_attn): LlamaAttention(\n",
       "              (q_proj): lora.Linear4bit(\n",
       "                (base_layer): Linear4bit(in_features=3072, out_features=3072, bias=False)\n",
       "                (lora_dropout): ModuleDict(\n",
       "                  (default): Identity()\n",
       "                )\n",
       "                (lora_A): ModuleDict(\n",
       "                  (default): Linear(in_features=3072, out_features=8, bias=False)\n",
       "                )\n",
       "                (lora_B): ModuleDict(\n",
       "                  (default): Linear(in_features=8, out_features=3072, bias=False)\n",
       "                )\n",
       "                (lora_embedding_A): ParameterDict()\n",
       "                (lora_embedding_B): ParameterDict()\n",
       "                (lora_magnitude_vector): ModuleDict()\n",
       "              )\n",
       "              (k_proj): lora.Linear4bit(\n",
       "                (base_layer): Linear4bit(in_features=3072, out_features=1024, bias=False)\n",
       "                (lora_dropout): ModuleDict(\n",
       "                  (default): Identity()\n",
       "                )\n",
       "                (lora_A): ModuleDict(\n",
       "                  (default): Linear(in_features=3072, out_features=8, bias=False)\n",
       "                )\n",
       "                (lora_B): ModuleDict(\n",
       "                  (default): Linear(in_features=8, out_features=1024, bias=False)\n",
       "                )\n",
       "                (lora_embedding_A): ParameterDict()\n",
       "                (lora_embedding_B): ParameterDict()\n",
       "                (lora_magnitude_vector): ModuleDict()\n",
       "              )\n",
       "              (v_proj): lora.Linear4bit(\n",
       "                (base_layer): Linear4bit(in_features=3072, out_features=1024, bias=False)\n",
       "                (lora_dropout): ModuleDict(\n",
       "                  (default): Identity()\n",
       "                )\n",
       "                (lora_A): ModuleDict(\n",
       "                  (default): Linear(in_features=3072, out_features=8, bias=False)\n",
       "                )\n",
       "                (lora_B): ModuleDict(\n",
       "                  (default): Linear(in_features=8, out_features=1024, bias=False)\n",
       "                )\n",
       "                (lora_embedding_A): ParameterDict()\n",
       "                (lora_embedding_B): ParameterDict()\n",
       "                (lora_magnitude_vector): ModuleDict()\n",
       "              )\n",
       "              (o_proj): lora.Linear4bit(\n",
       "                (base_layer): Linear4bit(in_features=3072, out_features=3072, bias=False)\n",
       "                (lora_dropout): ModuleDict(\n",
       "                  (default): Identity()\n",
       "                )\n",
       "                (lora_A): ModuleDict(\n",
       "                  (default): Linear(in_features=3072, out_features=8, bias=False)\n",
       "                )\n",
       "                (lora_B): ModuleDict(\n",
       "                  (default): Linear(in_features=8, out_features=3072, bias=False)\n",
       "                )\n",
       "                (lora_embedding_A): ParameterDict()\n",
       "                (lora_embedding_B): ParameterDict()\n",
       "                (lora_magnitude_vector): ModuleDict()\n",
       "              )\n",
       "            )\n",
       "            (mlp): LlamaMLP(\n",
       "              (gate_proj): lora.Linear4bit(\n",
       "                (base_layer): Linear4bit(in_features=3072, out_features=8192, bias=False)\n",
       "                (lora_dropout): ModuleDict(\n",
       "                  (default): Identity()\n",
       "                )\n",
       "                (lora_A): ModuleDict(\n",
       "                  (default): Linear(in_features=3072, out_features=8, bias=False)\n",
       "                )\n",
       "                (lora_B): ModuleDict(\n",
       "                  (default): Linear(in_features=8, out_features=8192, bias=False)\n",
       "                )\n",
       "                (lora_embedding_A): ParameterDict()\n",
       "                (lora_embedding_B): ParameterDict()\n",
       "                (lora_magnitude_vector): ModuleDict()\n",
       "              )\n",
       "              (up_proj): lora.Linear4bit(\n",
       "                (base_layer): Linear4bit(in_features=3072, out_features=8192, bias=False)\n",
       "                (lora_dropout): ModuleDict(\n",
       "                  (default): Identity()\n",
       "                )\n",
       "                (lora_A): ModuleDict(\n",
       "                  (default): Linear(in_features=3072, out_features=8, bias=False)\n",
       "                )\n",
       "                (lora_B): ModuleDict(\n",
       "                  (default): Linear(in_features=8, out_features=8192, bias=False)\n",
       "                )\n",
       "                (lora_embedding_A): ParameterDict()\n",
       "                (lora_embedding_B): ParameterDict()\n",
       "                (lora_magnitude_vector): ModuleDict()\n",
       "              )\n",
       "              (down_proj): lora.Linear4bit(\n",
       "                (base_layer): Linear4bit(in_features=8192, out_features=3072, bias=False)\n",
       "                (lora_dropout): ModuleDict(\n",
       "                  (default): Identity()\n",
       "                )\n",
       "                (lora_A): ModuleDict(\n",
       "                  (default): Linear(in_features=8192, out_features=8, bias=False)\n",
       "                )\n",
       "                (lora_B): ModuleDict(\n",
       "                  (default): Linear(in_features=8, out_features=3072, bias=False)\n",
       "                )\n",
       "                (lora_embedding_A): ParameterDict()\n",
       "                (lora_embedding_B): ParameterDict()\n",
       "                (lora_magnitude_vector): ModuleDict()\n",
       "              )\n",
       "              (act_fn): SiLU()\n",
       "            )\n",
       "            (input_layernorm): LlamaRMSNorm((3072,), eps=1e-05)\n",
       "            (post_attention_layernorm): LlamaRMSNorm((3072,), eps=1e-05)\n",
       "          )\n",
       "        )\n",
       "        (norm): LlamaRMSNorm((3072,), eps=1e-05)\n",
       "        (rotary_emb): LlamaRotaryEmbedding()\n",
       "      )\n",
       "      (lm_head): Linear(in_features=3072, out_features=128256, bias=False)\n",
       "    )\n",
       "  )\n",
       ")"
      ]
     },
     "execution_count": 4,
     "metadata": {},
     "output_type": "execute_result"
    }
   ],
   "source": [
    "model_path=\"dainlieu/Llama-3.2-3B-bnb-4bit-MedMCQA\"\n",
    "\n",
    "# Load base model (bnb-4bit)\n",
    "base_model = AutoModelForCausalLM.from_pretrained(\n",
    "    \"unsloth/llama-3.2-3b-bnb-4bit\",\n",
    "    device_map=\"auto\",               # cho dùng GPU\n",
    "    load_in_4bit=True\n",
    ")\n",
    "\n",
    "# Load tokenizer\n",
    "tokenizer = AutoTokenizer.from_pretrained(\"unsloth/llama-3.2-3b-bnb-4bit\")\n",
    "\n",
    "# Load adapter (LoRA fine-tune)\n",
    "model = PeftModel.from_pretrained(\n",
    "    base_model,\n",
    "    \"dainlieu/Llama-3.2-3B-bnb-4bit-MedMCQA\"\n",
    ")\n",
    "\n",
    "model.eval()"
   ]
  },
  {
   "cell_type": "markdown",
   "id": "6f572f54",
   "metadata": {},
   "source": [
    "### 3.3 Hàm phụ để đánh giá"
   ]
  },
  {
   "cell_type": "markdown",
   "id": "207b29c9",
   "metadata": {},
   "source": [
    "Mẫu prompt và mapping"
   ]
  },
  {
   "cell_type": "code",
   "execution_count": 5,
   "id": "92cdbf24",
   "metadata": {},
   "outputs": [],
   "source": [
    "# Mẫu định dạng prompt đầu vào cho mô hình\n",
    "data_prompt = \"\"\"Question: {}\n",
    "Choices:\n",
    "{}\n",
    "Answer\"\"\"\n",
    "\n",
    "# Mapping chỉ số sang nhãn (ngược lại bạn có thể dùng trong đánh giá)\n",
    "id2label = {0: 'A', 1: 'B', 2: 'C', 3: 'D'}"
   ]
  },
  {
   "cell_type": "markdown",
   "id": "ea0d1bf6",
   "metadata": {},
   "source": [
    "Hàm tạo prompt từ tập dữ liệu"
   ]
  },
  {
   "cell_type": "code",
   "execution_count": 6,
   "id": "a0817dcc",
   "metadata": {},
   "outputs": [],
   "source": [
    "def formatting_prompt(examples):\n",
    "    \"\"\"\n",
    "    Tạo prompt theo định dạng chuẩn từ các cột dữ liệu đầu vào.\n",
    "    Làm sạch câu hỏi bằng cách loại bỏ các ký tự không phải chữ/số hoặc khoảng trắng.\n",
    "    Trả về danh sách prompt ở dạng {\"text\": [prompt1, prompt2, ...]}.\n",
    "    \"\"\"\n",
    "    questions = examples[\"question\"]\n",
    "    opas = examples[\"opa\"]\n",
    "    opbs = examples[\"opb\"]\n",
    "    opcs = examples[\"opc\"]\n",
    "    opds = examples[\"opd\"]\n",
    "\n",
    "    texts = []\n",
    "    for idx in range(len(questions)):\n",
    "        # Làm sạch question: chỉ giữ lại chữ, số và khoảng trắng\n",
    "        raw_question = questions[idx]\n",
    "        question = ''.join(c for c in raw_question if c.isalnum() or c.isspace()).strip()\n",
    "\n",
    "        choices = f\"A. {opas[idx]}\\nB. {opbs[idx]}\\nC. {opcs[idx]}\\nD. {opds[idx]}\"\n",
    "        prompt = data_prompt.format(question, choices)\n",
    "        texts.append(prompt)\n",
    "\n",
    "    return {\"text\": texts}"
   ]
  },
  {
   "cell_type": "markdown",
   "id": "c2f123eb",
   "metadata": {},
   "source": [
    "Hàm trích xuất đáp án từ mô hình (A/B/C/D → 0–3)"
   ]
  },
  {
   "cell_type": "code",
   "execution_count": 7,
   "id": "4cd06646",
   "metadata": {},
   "outputs": [],
   "source": [
    "def extract_answer_index(text):\n",
    "    \"\"\"\n",
    "    Trích xuất ký tự A/B/C/D sau 'Answer:' và chuyển thành chỉ số 0–3.\n",
    "    Trả về -1 nếu không khớp.\n",
    "    \"\"\"\n",
    "    match = re.search(r\"Answer:\\s*([ABCD])\\b\", text)\n",
    "    if match:\n",
    "        letter = match.group(1)\n",
    "        return {'A': 0, 'B': 1, 'C': 2, 'D': 3}[letter]\n",
    "    return -1"
   ]
  },
  {
   "cell_type": "code",
   "execution_count": 8,
   "id": "6fa28db6",
   "metadata": {},
   "outputs": [
    {
     "name": "stdout",
     "output_type": "stream",
     "text": [
      "Answer: A => 0\n",
      "Answer: B => 1\n",
      "Answer: D => 3\n",
      "Answer: C. Some explanation => 2\n",
      "Answer: Z => -1\n",
      "Nothing Bang => -1\n"
     ]
    }
   ],
   "source": [
    "# Kiểm thử nhanh\n",
    "test_cases = [\n",
    "    \"Answer: A\",     # ✅ 0\n",
    "    \"Answer: B\",     # ✅ 1\n",
    "    \"Answer: D\",     # ✅ 3\n",
    "    \"Answer: C. Some explanation\",  # ✅ 2\n",
    "    \"Answer: Z\",     # ❌ -1\n",
    "    \"Nothing Bang\",  # ❌ -1\n",
    "]\n",
    "\n",
    "for text in test_cases:\n",
    "    print(f\"{text} => {extract_answer_index(text)}\")"
   ]
  },
  {
   "cell_type": "markdown",
   "id": "343158ed",
   "metadata": {},
   "source": [
    "Hàm tính các chỉ số và trực quan"
   ]
  },
  {
   "cell_type": "code",
   "execution_count": 33,
   "id": "1df2572e",
   "metadata": {},
   "outputs": [],
   "source": [
    "from sklearn.metrics import classification_report, confusion_matrix\n",
    "import evaluate\n",
    "import matplotlib.pyplot as plt\n",
    "import seaborn as sns\n",
    "\n",
    "def compute_metrics(gts, res, label_names=[\"A\", \"B\", \"C\", \"D\"]):\n",
    "    \"\"\"\n",
    "    Tính các chỉ số đánh giá mô hình multiple-choice:\n",
    "    - Accuracy\n",
    "    - Classification report\n",
    "    - Confusion matrix (kết quả trả về)\n",
    "    \"\"\"\n",
    "    # Xác định chỉ số hợp lệ\n",
    "    valid_indices = [i for i, r in enumerate(res) if r in [0, 1, 2, 3]]\n",
    "    invalid_indices = [i for i, r in enumerate(res) if r not in [0, 1, 2, 3]]\n",
    "\n",
    "    gts_valid = [gts[i] for i in valid_indices]\n",
    "    res_valid = [res[i] for i in valid_indices]\n",
    "\n",
    "    # Accuracy\n",
    "    accuracy_metric = evaluate.load(\"accuracy\")\n",
    "    acc_result = accuracy_metric.compute(predictions=res_valid, references=gts_valid)\n",
    "\n",
    "    # Classification report\n",
    "    report = classification_report(\n",
    "        gts_valid,\n",
    "        res_valid,\n",
    "        labels=[0, 1, 2, 3],\n",
    "        target_names=label_names,\n",
    "        output_dict=True\n",
    "    )\n",
    "\n",
    "    # Confusion matrix (toàn bộ, có thể có -1)\n",
    "    labels_all = sorted(set(gts + res))\n",
    "    cm = confusion_matrix(gts, res, labels=labels_all)\n",
    "\n",
    "    return {\n",
    "        \"accuracy\": acc_result['accuracy'],\n",
    "        \"classification_report\": report,\n",
    "        \"confusion_matrix\": cm,\n",
    "        \"labels_all\": labels_all,\n",
    "        \"num_invalid\": len(invalid_indices),\n",
    "        \"invalid_indices\": invalid_indices,\n",
    "        \"valid_indices\": valid_indices\n",
    "    }\n",
    "def plot_confusion_matrix(cm, labels_all, label_names=[\"A\", \"B\", \"C\", \"D\"]):\n",
    "    \"\"\"\n",
    "    Vẽ confusion matrix với nhãn tương ứng (bao gồm cả -1 nếu có).\n",
    "    \"\"\"\n",
    "    if -1 in labels_all:\n",
    "        display_labels = [\"Invalid\"] + label_names\n",
    "    else:\n",
    "        display_labels = label_names\n",
    "\n",
    "    plt.figure(figsize=(6, 5))\n",
    "    sns.heatmap(cm, annot=True, fmt='d',\n",
    "                xticklabels=display_labels,\n",
    "                yticklabels=display_labels,\n",
    "                cmap=\"Blues\")\n",
    "    plt.xlabel(\"Predicted\")\n",
    "    plt.ylabel(\"True\")\n",
    "    plt.title(\"Confusion Matrix\")\n",
    "    plt.show()\n",
    "\n",
    "def plot_confusion_matrices_side_by_side(cm1, labels1, title1,\n",
    "                                         cm2, labels2, title2,\n",
    "                                         label_names=[\"A\", \"B\", \"C\", \"D\"]):\n",
    "    # Xác định nhãn\n",
    "    if -1 in labels1 or -1 in labels2:\n",
    "        display_labels = [\"Invalid\"] + label_names\n",
    "    else:\n",
    "        display_labels = label_names\n",
    "\n",
    "    fig, axs = plt.subplots(1, 2, figsize=(12, 5))\n",
    "\n",
    "    sns.heatmap(cm1, annot=True, fmt='d',\n",
    "                xticklabels=display_labels,\n",
    "                yticklabels=display_labels,\n",
    "                cmap=\"Blues\", ax=axs[0])\n",
    "    axs[0].set_title(title1)\n",
    "    axs[0].set_xlabel(\"Predicted\")\n",
    "    axs[0].set_ylabel(\"True\")\n",
    "\n",
    "    sns.heatmap(cm2, annot=True, fmt='d',\n",
    "                xticklabels=display_labels,\n",
    "                yticklabels=display_labels,\n",
    "                cmap=\"Greens\", ax=axs[1])\n",
    "    axs[1].set_title(title2)\n",
    "    axs[1].set_xlabel(\"Predicted\")\n",
    "    axs[1].set_ylabel(\"True\")\n",
    "\n",
    "    plt.tight_layout()\n",
    "    plt.show()"
   ]
  },
  {
   "cell_type": "markdown",
   "id": "30f18815",
   "metadata": {},
   "source": [
    "## 4. Evaluation model"
   ]
  },
  {
   "cell_type": "markdown",
   "id": "e7e10d83",
   "metadata": {},
   "source": [
    "Chuẩn hóa dữ liệu"
   ]
  },
  {
   "cell_type": "code",
   "execution_count": 10,
   "id": "33371f8f",
   "metadata": {},
   "outputs": [],
   "source": [
    "ds_val = ds.map(formatting_prompt, batched=True)"
   ]
  },
  {
   "cell_type": "markdown",
   "id": "cc9c40ec",
   "metadata": {},
   "source": [
    "### 4.1 Single Sample Evaluation\n",
    "→ Đánh giá thử trên 1 câu hỏi, dùng để kiểm tra mô hình hoạt động đúng chưa."
   ]
  },
  {
   "cell_type": "markdown",
   "id": "9550bca7",
   "metadata": {},
   "source": [
    "Chuẩn bị mẫu"
   ]
  },
  {
   "cell_type": "code",
   "execution_count": 11,
   "id": "62113515",
   "metadata": {},
   "outputs": [
    {
     "name": "stdout",
     "output_type": "stream",
     "text": [
      "Prompt: \n",
      " Question: Concentration of tropicamide\n",
      "Choices:\n",
      "A. 0.01\n",
      "B. 0.02\n",
      "C. 0.03\n",
      "D. 0.04\n",
      "Answer\n",
      "---------------------------\n",
      "Đáp án chính xác:  A\n"
     ]
    }
   ],
   "source": [
    "sample = ds_val[5]\n",
    "print(\"Prompt: \\n\", sample['text'])\n",
    "print(\"---------------------------\")\n",
    "print(\"Đáp án chính xác: \", id2label[sample['cop']])"
   ]
  },
  {
   "cell_type": "markdown",
   "id": "ddb03317",
   "metadata": {},
   "source": [
    "Dự đoán"
   ]
  },
  {
   "cell_type": "code",
   "execution_count": 12,
   "id": "a6344407",
   "metadata": {},
   "outputs": [
    {
     "name": "stdout",
     "output_type": "stream",
     "text": [
      "Question: Concentration of tropicamide\n",
      "Choices:\n",
      "A. 0.01\n",
      "B. 0.02\n",
      "C. 0.03\n",
      "D. 0.04\n",
      "Answer:\n",
      "A\n"
     ]
    }
   ],
   "source": [
    "inputs = tokenizer(sample['text'], return_tensors=\"pt\").to(model.device)\n",
    "outputs = model.generate(\n",
    "    **inputs,\n",
    "    max_new_tokens=32,\n",
    "    do_sample=False,\n",
    "    pad_token_id=tokenizer.pad_token_id\n",
    ")\n",
    "\n",
    "print(tokenizer.decode(outputs[0], skip_special_tokens=True))"
   ]
  },
  {
   "cell_type": "markdown",
   "id": "afceba93",
   "metadata": {},
   "source": [
    "**Nhận xét**: Kết quả của dự đoán và thực tế trùng khớp"
   ]
  },
  {
   "cell_type": "markdown",
   "id": "adfd1f0e",
   "metadata": {},
   "source": [
    "### 4.2 Batch Evaluation & Metrics\n",
    "→ Chạy trên toàn bộ tập validation, tính toán các chỉ số và lưu kết quả."
   ]
  },
  {
   "cell_type": "markdown",
   "id": "ade1834d",
   "metadata": {},
   "source": [
    "#### 4.2.1 Dự đoán và tính các chỉ số trên tập `validation` với base model"
   ]
  },
  {
   "cell_type": "markdown",
   "id": "23376b32",
   "metadata": {},
   "source": [
    "Dự đoán"
   ]
  },
  {
   "cell_type": "code",
   "execution_count": 13,
   "id": "0c1a9fd4",
   "metadata": {},
   "outputs": [
    {
     "name": "stderr",
     "output_type": "stream",
     "text": [
      "🔄 Đang sinh từng câu:   0%|          | 0/100 [00:00<?, ?it/s]"
     ]
    },
    {
     "name": "stderr",
     "output_type": "stream",
     "text": [
      "🔄 Đang sinh từng câu: 100%|██████████| 100/100 [02:58<00:00,  1.78s/it]\n"
     ]
    }
   ],
   "source": [
    "from tqdm import tqdm\n",
    "\n",
    "res1 = []\n",
    "ds_eval = ds_val['text'][:100]\n",
    "\n",
    "for i in tqdm(range(len(ds_eval)), desc=\"🔄 Đang sinh từng câu\"):\n",
    "\n",
    "    prompt = ds_eval[i]  # ✅ lấy từng câu riêng lẻ\n",
    "    \n",
    "    inputs = tokenizer(prompt, return_tensors=\"pt\").to(model.device)\n",
    "\n",
    "    with torch.no_grad():\n",
    "        outputs = base_model.generate(\n",
    "            **inputs,\n",
    "            max_new_tokens=32,\n",
    "            do_sample=False,\n",
    "        )\n",
    "\n",
    "    answer = tokenizer.decode(outputs[0], skip_special_tokens=True)\n",
    "    res1.append(extract_answer_index(answer))"
   ]
  },
  {
   "cell_type": "markdown",
   "id": "d4798b43",
   "metadata": {},
   "source": [
    "Tính toán chỉ số đánh giá"
   ]
  },
  {
   "cell_type": "code",
   "execution_count": 27,
   "id": "68239b4a",
   "metadata": {},
   "outputs": [],
   "source": [
    "metrics_base = compute_metrics(ds_val['cop'][:100], res1)"
   ]
  },
  {
   "cell_type": "markdown",
   "id": "ea707465",
   "metadata": {},
   "source": [
    "#### 4.2.2 Dự đoán và tính các chỉ số trên tập `validation` với model đã fine-tune"
   ]
  },
  {
   "cell_type": "markdown",
   "id": "33dbd1ca",
   "metadata": {},
   "source": [
    "Dự đoán"
   ]
  },
  {
   "cell_type": "code",
   "execution_count": 16,
   "id": "7fc8ebdc",
   "metadata": {},
   "outputs": [
    {
     "name": "stderr",
     "output_type": "stream",
     "text": [
      "🔄 Đang sinh từng câu: 100%|██████████| 100/100 [02:10<00:00,  1.30s/it]\n"
     ]
    }
   ],
   "source": [
    "from tqdm import tqdm\n",
    "\n",
    "res = []\n",
    "ds_eval = ds_val['text'][:100]\n",
    "\n",
    "for i in tqdm(range(len(ds_eval)), desc=\"🔄 Đang sinh từng câu\"):\n",
    "\n",
    "    prompt = ds_eval[i]  # ✅ lấy từng câu riêng lẻ\n",
    "    \n",
    "    inputs = tokenizer(prompt, return_tensors=\"pt\").to(model.device)\n",
    "\n",
    "    with torch.no_grad():\n",
    "        outputs = model.generate(\n",
    "            **inputs,\n",
    "            max_new_tokens=32,\n",
    "            do_sample=False,\n",
    "        )\n",
    "\n",
    "    answer = tokenizer.decode(outputs[0], skip_special_tokens=True)\n",
    "    res.append(extract_answer_index(answer))"
   ]
  },
  {
   "cell_type": "markdown",
   "id": "42ce914c",
   "metadata": {},
   "source": [
    "Tính Accuracy, Confusion Matrix, classification_report"
   ]
  },
  {
   "cell_type": "code",
   "execution_count": 28,
   "id": "aa34baf1",
   "metadata": {},
   "outputs": [],
   "source": [
    "metrics_tuned = compute_metrics(ds_val['cop'][:100], res)"
   ]
  },
  {
   "cell_type": "markdown",
   "id": "9154fa31",
   "metadata": {},
   "source": [
    "#### 4.2.3 So sánh và đánh giá `fine-tuned model` với `base model`"
   ]
  },
  {
   "cell_type": "markdown",
   "id": "5b8ce10c",
   "metadata": {},
   "source": [
    "So sánh Accuracy và Invalid Samples"
   ]
  },
  {
   "cell_type": "code",
   "execution_count": 29,
   "id": "fafb6c98",
   "metadata": {},
   "outputs": [
    {
     "data": {
      "text/html": [
       "<div>\n",
       "<style scoped>\n",
       "    .dataframe tbody tr th:only-of-type {\n",
       "        vertical-align: middle;\n",
       "    }\n",
       "\n",
       "    .dataframe tbody tr th {\n",
       "        vertical-align: top;\n",
       "    }\n",
       "\n",
       "    .dataframe thead th {\n",
       "        text-align: right;\n",
       "    }\n",
       "</style>\n",
       "<table border=\"1\" class=\"dataframe\">\n",
       "  <thead>\n",
       "    <tr style=\"text-align: right;\">\n",
       "      <th></th>\n",
       "      <th>Metric</th>\n",
       "      <th>Base Model</th>\n",
       "      <th>Fine-tuned Model</th>\n",
       "    </tr>\n",
       "  </thead>\n",
       "  <tbody>\n",
       "    <tr>\n",
       "      <th>0</th>\n",
       "      <td>Accuracy (%)</td>\n",
       "      <td>38.54</td>\n",
       "      <td>38.54</td>\n",
       "    </tr>\n",
       "    <tr>\n",
       "      <th>1</th>\n",
       "      <td>Invalid Samples</td>\n",
       "      <td>4 / 100</td>\n",
       "      <td>4 / 100</td>\n",
       "    </tr>\n",
       "  </tbody>\n",
       "</table>\n",
       "</div>"
      ],
      "text/plain": [
       "            Metric Base Model Fine-tuned Model\n",
       "0     Accuracy (%)      38.54            38.54\n",
       "1  Invalid Samples    4 / 100          4 / 100"
      ]
     },
     "metadata": {},
     "output_type": "display_data"
    }
   ],
   "source": [
    "import pandas as pd\n",
    "\n",
    "comparison_df = pd.DataFrame({\n",
    "    \"Metric\": [\"Accuracy (%)\", \"Invalid Samples\"],\n",
    "    \"Base Model\": [round(metrics_base[\"accuracy\"] * 100, 2),\n",
    "                   f\"{metrics_base['num_invalid']} / {len(res1)}\"],\n",
    "    \"Fine-tuned Model\": [round(metrics_tuned[\"accuracy\"] * 100, 2),\n",
    "                         f\"{metrics_tuned['num_invalid']} / {len(res)}\"]\n",
    "})\n",
    "\n",
    "display(comparison_df)\n"
   ]
  },
  {
   "cell_type": "markdown",
   "id": "38c74303",
   "metadata": {},
   "source": [
    "So sánh Classification Report"
   ]
  },
  {
   "cell_type": "code",
   "execution_count": 30,
   "id": "6215aba1",
   "metadata": {},
   "outputs": [
    {
     "data": {
      "text/html": [
       "<div>\n",
       "<style scoped>\n",
       "    .dataframe tbody tr th:only-of-type {\n",
       "        vertical-align: middle;\n",
       "    }\n",
       "\n",
       "    .dataframe tbody tr th {\n",
       "        vertical-align: top;\n",
       "    }\n",
       "\n",
       "    .dataframe thead th {\n",
       "        text-align: right;\n",
       "    }\n",
       "</style>\n",
       "<table border=\"1\" class=\"dataframe\">\n",
       "  <thead>\n",
       "    <tr style=\"text-align: right;\">\n",
       "      <th></th>\n",
       "      <th>precision_base</th>\n",
       "      <th>recall_base</th>\n",
       "      <th>f1-score_base</th>\n",
       "      <th>support_base</th>\n",
       "      <th>precision_tuned</th>\n",
       "      <th>recall_tuned</th>\n",
       "      <th>f1-score_tuned</th>\n",
       "      <th>support_tuned</th>\n",
       "    </tr>\n",
       "  </thead>\n",
       "  <tbody>\n",
       "    <tr>\n",
       "      <th>A</th>\n",
       "      <td>0.373</td>\n",
       "      <td>0.694</td>\n",
       "      <td>0.485</td>\n",
       "      <td>36.000</td>\n",
       "      <td>0.373</td>\n",
       "      <td>0.694</td>\n",
       "      <td>0.485</td>\n",
       "      <td>36.000</td>\n",
       "    </tr>\n",
       "    <tr>\n",
       "      <th>B</th>\n",
       "      <td>0.429</td>\n",
       "      <td>0.222</td>\n",
       "      <td>0.293</td>\n",
       "      <td>27.000</td>\n",
       "      <td>0.429</td>\n",
       "      <td>0.222</td>\n",
       "      <td>0.293</td>\n",
       "      <td>27.000</td>\n",
       "    </tr>\n",
       "    <tr>\n",
       "      <th>C</th>\n",
       "      <td>0.625</td>\n",
       "      <td>0.294</td>\n",
       "      <td>0.400</td>\n",
       "      <td>17.000</td>\n",
       "      <td>0.625</td>\n",
       "      <td>0.294</td>\n",
       "      <td>0.400</td>\n",
       "      <td>17.000</td>\n",
       "    </tr>\n",
       "    <tr>\n",
       "      <th>D</th>\n",
       "      <td>0.143</td>\n",
       "      <td>0.062</td>\n",
       "      <td>0.087</td>\n",
       "      <td>16.000</td>\n",
       "      <td>0.143</td>\n",
       "      <td>0.062</td>\n",
       "      <td>0.087</td>\n",
       "      <td>16.000</td>\n",
       "    </tr>\n",
       "    <tr>\n",
       "      <th>accuracy</th>\n",
       "      <td>0.385</td>\n",
       "      <td>0.385</td>\n",
       "      <td>0.385</td>\n",
       "      <td>0.385</td>\n",
       "      <td>0.385</td>\n",
       "      <td>0.385</td>\n",
       "      <td>0.385</td>\n",
       "      <td>0.385</td>\n",
       "    </tr>\n",
       "    <tr>\n",
       "      <th>macro avg</th>\n",
       "      <td>0.392</td>\n",
       "      <td>0.318</td>\n",
       "      <td>0.316</td>\n",
       "      <td>96.000</td>\n",
       "      <td>0.392</td>\n",
       "      <td>0.318</td>\n",
       "      <td>0.316</td>\n",
       "      <td>96.000</td>\n",
       "    </tr>\n",
       "    <tr>\n",
       "      <th>weighted avg</th>\n",
       "      <td>0.395</td>\n",
       "      <td>0.385</td>\n",
       "      <td>0.350</td>\n",
       "      <td>96.000</td>\n",
       "      <td>0.395</td>\n",
       "      <td>0.385</td>\n",
       "      <td>0.350</td>\n",
       "      <td>96.000</td>\n",
       "    </tr>\n",
       "  </tbody>\n",
       "</table>\n",
       "</div>"
      ],
      "text/plain": [
       "              precision_base  recall_base  f1-score_base  support_base  \\\n",
       "A                      0.373        0.694          0.485        36.000   \n",
       "B                      0.429        0.222          0.293        27.000   \n",
       "C                      0.625        0.294          0.400        17.000   \n",
       "D                      0.143        0.062          0.087        16.000   \n",
       "accuracy               0.385        0.385          0.385         0.385   \n",
       "macro avg              0.392        0.318          0.316        96.000   \n",
       "weighted avg           0.395        0.385          0.350        96.000   \n",
       "\n",
       "              precision_tuned  recall_tuned  f1-score_tuned  support_tuned  \n",
       "A                       0.373         0.694           0.485         36.000  \n",
       "B                       0.429         0.222           0.293         27.000  \n",
       "C                       0.625         0.294           0.400         17.000  \n",
       "D                       0.143         0.062           0.087         16.000  \n",
       "accuracy                0.385         0.385           0.385          0.385  \n",
       "macro avg               0.392         0.318           0.316         96.000  \n",
       "weighted avg            0.395         0.385           0.350         96.000  "
      ]
     },
     "metadata": {},
     "output_type": "display_data"
    }
   ],
   "source": [
    "df_base = pd.DataFrame(metrics_base[\"classification_report\"]).T\n",
    "df_tuned = pd.DataFrame(metrics_tuned[\"classification_report\"]).T\n",
    "\n",
    "df_compare = pd.concat([\n",
    "    df_base.add_suffix(\"_base\"),\n",
    "    df_tuned.add_suffix(\"_tuned\")\n",
    "], axis=1).round(3)\n",
    "\n",
    "display(df_compare)\n"
   ]
  },
  {
   "cell_type": "markdown",
   "id": "38e8a2fb",
   "metadata": {},
   "source": [
    "Trực quan hóa Confusion Matrix"
   ]
  },
  {
   "cell_type": "code",
   "execution_count": 34,
   "id": "d924fe26",
   "metadata": {},
   "outputs": [
    {
     "data": {
      "image/png": "[encoded data removed]",
      "text/plain": [
       "<Figure size 1200x500 with 4 Axes>"
      ]
     },
     "metadata": {},
     "output_type": "display_data"
    }
   ],
   "source": [
    "plot_confusion_matrices_side_by_side(\n",
    "    metrics_base[\"confusion_matrix\"], metrics_base[\"labels_all\"], \"Base Model\",\n",
    "    metrics_tuned[\"confusion_matrix\"], metrics_tuned[\"labels_all\"], \"Fine-tuned Model\"\n",
    ")"
   ]
  },
  {
   "cell_type": "markdown",
   "id": "58bc2142",
   "metadata": {},
   "source": [
    "**Nhận xét:**"
   ]
  }
 ],
 "metadata": {
  "kernelspec": {
   "display_name": "venv",
   "language": "python",
   "name": "python3"
  },
  "language_info": {
   "codemirror_mode": {
    "name": "ipython",
    "version": 3
   },
   "file_extension": ".py",
   "mimetype": "text/x-python",
   "name": "python",
   "nbconvert_exporter": "python",
   "pygments_lexer": "ipython3",
   "version": "3.10.8"
  }
 },
 "nbformat": 4,
 "nbformat_minor": 5
}
