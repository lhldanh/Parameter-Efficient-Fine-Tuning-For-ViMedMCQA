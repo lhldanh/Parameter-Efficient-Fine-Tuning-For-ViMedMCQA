{
 "cells": [
  {
   "cell_type": "markdown",
   "id": "0849840b",
   "metadata": {},
   "source": [
    "# Evaluation Report – MedMCQA (LoRA 4-bit)\n"
   ]
  },
  {
   "cell_type": "markdown",
   "id": "f2ab41b9",
   "metadata": {},
   "source": [
    "## Mô hình\n",
    "- **Model name**: LLaMA 3.2B 4bit LoRA\n",
    "- **LoRA adapter**: QLoRA / PEFT\n",
    "- **Tokenizer**: AutoTokenizer (LLaMA-compatible)\n",
    "- **Fine-tune Framework**: `trl` + `SFTTrainer`\n",
    "\n",
    "## Tham số huấn luyện\n",
    "- `learning_rate`: 3e-4\n",
    "- `lr_scheduler_type`: linear\n",
    "- `batch_size`: 32\n",
    "- `gradient_accumulation_steps`: 8\n",
    "- `epochs`: 2\n",
    "- `eval_steps`: 50\n",
    "- `save_total_limit`: 1\n",
    "- `optim`: adamw_8bit\n",
    "- `fp16`: `True` / `False` (tùy GPU)\n"
   ]
  },
  {
   "cell_type": "markdown",
   "id": "47df3b53",
   "metadata": {},
   "source": [
    "## Đánh giá mô hình (Accuracy & F1)"
   ]
  },
  {
   "cell_type": "markdown",
   "id": "cc91c212",
   "metadata": {},
   "source": [
    "import thư viện"
   ]
  },
  {
   "cell_type": "code",
   "execution_count": 2,
   "id": "6feef039",
   "metadata": {},
   "outputs": [
    {
     "name": "stdout",
     "output_type": "stream",
     "text": [
      "🦥 Unsloth: Will patch your computer to enable 2x faster free finetuning.\n"
     ]
    },
    {
     "name": "stderr",
     "output_type": "stream",
     "text": [
      "f:\\Parameter-Efficient-Fine-Tuning-For-ViMedMCQA\\venv\\lib\\site-packages\\tqdm\\auto.py:21: TqdmWarning: IProgress not found. Please update jupyter and ipywidgets. See https://ipywidgets.readthedocs.io/en/stable/user_install.html\n",
      "  from .autonotebook import tqdm as notebook_tqdm\n",
      "WARNING[XFORMERS]: xFormers can't load C++/CUDA extensions. xFormers was built for:\n",
      "    PyTorch 2.7.0+cu126 with CUDA 1206 (you have 2.7.0+cu118)\n",
      "    Python  3.10.11 (you have 3.10.8)\n",
      "  Please reinstall xformers (see https://github.com/facebookresearch/xformers#installing-xformers)\n",
      "  Memory-efficient attention, SwiGLU, sparse and more won't be available.\n",
      "  Set XFORMERS_MORE_DETAILS=1 for more details\n"
     ]
    },
    {
     "name": "stdout",
     "output_type": "stream",
     "text": [
      "🦥 Unsloth Zoo will now patch everything to make training faster!\n"
     ]
    }
   ],
   "source": [
    "from unsloth import FastLanguageModel\n",
    "from transformers import logging\n",
    "from peft import PeftModel\n",
    "logging.set_verbosity_error()\n",
    "\n",
    "import re\n",
    "import evaluate\n",
    "from sklearn.metrics import classification_report, confusion_matrix\n",
    "import seaborn as sns\n",
    "import matplotlib.pyplot as plt\n",
    "import torch\n",
    "from datasets import load_dataset"
   ]
  },
  {
   "cell_type": "markdown",
   "id": "366b12de",
   "metadata": {},
   "source": [
    "load mô hình"
   ]
  },
  {
   "cell_type": "code",
   "execution_count": 3,
   "id": "3adafc6d",
   "metadata": {},
   "outputs": [
    {
     "name": "stderr",
     "output_type": "stream",
     "text": [
      "f:\\Parameter-Efficient-Fine-Tuning-For-ViMedMCQA\\venv\\lib\\site-packages\\accelerate\\utils\\modeling.py:808: UserWarning: expandable_segments not supported on this platform (Triggered internally at C:\\actions-runner\\_work\\pytorch\\pytorch\\pytorch\\c10/cuda/CUDAAllocatorConfig.h:28.)\n",
      "  _ = torch.tensor([0], device=i)\n"
     ]
    },
    {
     "data": {
      "text/plain": [
       "PeftModelForCausalLM(\n",
       "  (base_model): LoraModel(\n",
       "    (model): LlamaForCausalLM(\n",
       "      (model): LlamaModel(\n",
       "        (embed_tokens): Embedding(128256, 3072, padding_idx=128004)\n",
       "        (layers): ModuleList(\n",
       "          (0-27): 28 x LlamaDecoderLayer(\n",
       "            (self_attn): LlamaAttention(\n",
       "              (q_proj): lora.Linear4bit(\n",
       "                (base_layer): Linear4bit(in_features=3072, out_features=3072, bias=False)\n",
       "                (lora_dropout): ModuleDict(\n",
       "                  (default): Identity()\n",
       "                )\n",
       "                (lora_A): ModuleDict(\n",
       "                  (default): Linear(in_features=3072, out_features=8, bias=False)\n",
       "                )\n",
       "                (lora_B): ModuleDict(\n",
       "                  (default): Linear(in_features=8, out_features=3072, bias=False)\n",
       "                )\n",
       "                (lora_embedding_A): ParameterDict()\n",
       "                (lora_embedding_B): ParameterDict()\n",
       "                (lora_magnitude_vector): ModuleDict()\n",
       "              )\n",
       "              (k_proj): lora.Linear4bit(\n",
       "                (base_layer): Linear4bit(in_features=3072, out_features=1024, bias=False)\n",
       "                (lora_dropout): ModuleDict(\n",
       "                  (default): Identity()\n",
       "                )\n",
       "                (lora_A): ModuleDict(\n",
       "                  (default): Linear(in_features=3072, out_features=8, bias=False)\n",
       "                )\n",
       "                (lora_B): ModuleDict(\n",
       "                  (default): Linear(in_features=8, out_features=1024, bias=False)\n",
       "                )\n",
       "                (lora_embedding_A): ParameterDict()\n",
       "                (lora_embedding_B): ParameterDict()\n",
       "                (lora_magnitude_vector): ModuleDict()\n",
       "              )\n",
       "              (v_proj): lora.Linear4bit(\n",
       "                (base_layer): Linear4bit(in_features=3072, out_features=1024, bias=False)\n",
       "                (lora_dropout): ModuleDict(\n",
       "                  (default): Identity()\n",
       "                )\n",
       "                (lora_A): ModuleDict(\n",
       "                  (default): Linear(in_features=3072, out_features=8, bias=False)\n",
       "                )\n",
       "                (lora_B): ModuleDict(\n",
       "                  (default): Linear(in_features=8, out_features=1024, bias=False)\n",
       "                )\n",
       "                (lora_embedding_A): ParameterDict()\n",
       "                (lora_embedding_B): ParameterDict()\n",
       "                (lora_magnitude_vector): ModuleDict()\n",
       "              )\n",
       "              (o_proj): lora.Linear4bit(\n",
       "                (base_layer): Linear4bit(in_features=3072, out_features=3072, bias=False)\n",
       "                (lora_dropout): ModuleDict(\n",
       "                  (default): Identity()\n",
       "                )\n",
       "                (lora_A): ModuleDict(\n",
       "                  (default): Linear(in_features=3072, out_features=8, bias=False)\n",
       "                )\n",
       "                (lora_B): ModuleDict(\n",
       "                  (default): Linear(in_features=8, out_features=3072, bias=False)\n",
       "                )\n",
       "                (lora_embedding_A): ParameterDict()\n",
       "                (lora_embedding_B): ParameterDict()\n",
       "                (lora_magnitude_vector): ModuleDict()\n",
       "              )\n",
       "            )\n",
       "            (mlp): LlamaMLP(\n",
       "              (gate_proj): lora.Linear4bit(\n",
       "                (base_layer): Linear4bit(in_features=3072, out_features=8192, bias=False)\n",
       "                (lora_dropout): ModuleDict(\n",
       "                  (default): Identity()\n",
       "                )\n",
       "                (lora_A): ModuleDict(\n",
       "                  (default): Linear(in_features=3072, out_features=8, bias=False)\n",
       "                )\n",
       "                (lora_B): ModuleDict(\n",
       "                  (default): Linear(in_features=8, out_features=8192, bias=False)\n",
       "                )\n",
       "                (lora_embedding_A): ParameterDict()\n",
       "                (lora_embedding_B): ParameterDict()\n",
       "                (lora_magnitude_vector): ModuleDict()\n",
       "              )\n",
       "              (up_proj): lora.Linear4bit(\n",
       "                (base_layer): Linear4bit(in_features=3072, out_features=8192, bias=False)\n",
       "                (lora_dropout): ModuleDict(\n",
       "                  (default): Identity()\n",
       "                )\n",
       "                (lora_A): ModuleDict(\n",
       "                  (default): Linear(in_features=3072, out_features=8, bias=False)\n",
       "                )\n",
       "                (lora_B): ModuleDict(\n",
       "                  (default): Linear(in_features=8, out_features=8192, bias=False)\n",
       "                )\n",
       "                (lora_embedding_A): ParameterDict()\n",
       "                (lora_embedding_B): ParameterDict()\n",
       "                (lora_magnitude_vector): ModuleDict()\n",
       "              )\n",
       "              (down_proj): lora.Linear4bit(\n",
       "                (base_layer): Linear4bit(in_features=8192, out_features=3072, bias=False)\n",
       "                (lora_dropout): ModuleDict(\n",
       "                  (default): Identity()\n",
       "                )\n",
       "                (lora_A): ModuleDict(\n",
       "                  (default): Linear(in_features=8192, out_features=8, bias=False)\n",
       "                )\n",
       "                (lora_B): ModuleDict(\n",
       "                  (default): Linear(in_features=8, out_features=3072, bias=False)\n",
       "                )\n",
       "                (lora_embedding_A): ParameterDict()\n",
       "                (lora_embedding_B): ParameterDict()\n",
       "                (lora_magnitude_vector): ModuleDict()\n",
       "              )\n",
       "              (act_fn): SiLU()\n",
       "            )\n",
       "            (input_layernorm): LlamaRMSNorm((3072,), eps=1e-05)\n",
       "            (post_attention_layernorm): LlamaRMSNorm((3072,), eps=1e-05)\n",
       "          )\n",
       "        )\n",
       "        (norm): LlamaRMSNorm((3072,), eps=1e-05)\n",
       "        (rotary_emb): LlamaRotaryEmbedding()\n",
       "      )\n",
       "      (lm_head): Linear(in_features=3072, out_features=128256, bias=False)\n",
       "    )\n",
       "  )\n",
       ")"
      ]
     },
     "execution_count": 3,
     "metadata": {},
     "output_type": "execute_result"
    }
   ],
   "source": [
    "model_path=\"dainlieu/Llama-3.2-3B-bnb-4bit-MedMCQA\"\n",
    "from transformers import AutoModelForCausalLM, AutoTokenizer\n",
    "from peft import PeftModel\n",
    "\n",
    "# ✅ Load base model (bnb-4bit)\n",
    "base_model = AutoModelForCausalLM.from_pretrained(\n",
    "    \"unsloth/llama-3.2-3b-bnb-4bit\",\n",
    "    device_map=\"auto\",               # cho dùng GPU\n",
    "    load_in_4bit=True\n",
    ")\n",
    "\n",
    "# ✅ Load tokenizer\n",
    "tokenizer = AutoTokenizer.from_pretrained(\"unsloth/llama-3.2-3b-bnb-4bit\")\n",
    "\n",
    "# ✅ Load adapter (LoRA fine-tune)\n",
    "model = PeftModel.from_pretrained(\n",
    "    base_model,\n",
    "    \"dainlieu/Llama-3.2-3B-bnb-4bit-MedMCQA\"\n",
    ")\n",
    "\n",
    "model.eval()\n"
   ]
  },
  {
   "cell_type": "markdown",
   "id": "207b29c9",
   "metadata": {},
   "source": [
    "Mẫu prompt và mapping"
   ]
  },
  {
   "cell_type": "code",
   "execution_count": 4,
   "id": "92cdbf24",
   "metadata": {},
   "outputs": [],
   "source": [
    "# Mẫu định dạng prompt đầu vào cho mô hình\n",
    "data_prompt = \"\"\"Question: {}\n",
    "Choices:\n",
    "{}\n",
    "Answer\"\"\"\n",
    "\n",
    "# Mapping chỉ số sang nhãn (ngược lại bạn có thể dùng trong đánh giá)\n",
    "id2label = {0: 'A', 1: 'B', 2: 'C', 3: 'D'}"
   ]
  },
  {
   "cell_type": "markdown",
   "id": "ea0d1bf6",
   "metadata": {},
   "source": [
    "Hàm tạo prompt từ tập dữ liệu"
   ]
  },
  {
   "cell_type": "code",
   "execution_count": 5,
   "id": "a0817dcc",
   "metadata": {},
   "outputs": [],
   "source": [
    "def formatting_prompt(examples):\n",
    "    \"\"\"\n",
    "    Tạo prompt theo định dạng chuẩn từ các cột dữ liệu đầu vào.\n",
    "    Trả về danh sách prompt ở dạng {\"text\": [prompt1, prompt2, ...]}.\n",
    "    \"\"\"\n",
    "    questions = examples[\"question\"]\n",
    "    opas = examples[\"opa\"]\n",
    "    opbs = examples[\"opb\"]\n",
    "    opcs = examples[\"opc\"]\n",
    "    opds = examples[\"opd\"]\n",
    "\n",
    "    texts = []\n",
    "    for idx in range(len(questions)):\n",
    "        question = questions[idx] + '?'  # Đảm bảo có dấu hỏi\n",
    "        choices = f\"A. {opas[idx]}\\nB. {opbs[idx]}\\nC. {opcs[idx]}\\nD. {opds[idx]}\"\n",
    "        prompt = data_prompt.format(question, choices)\n",
    "        texts.append(prompt)\n",
    "\n",
    "    return {\"text\": texts}"
   ]
  },
  {
   "cell_type": "markdown",
   "id": "c2f123eb",
   "metadata": {},
   "source": [
    "Hàm trích xuất đáp án từ mô hình (A/B/C/D → 0–3)"
   ]
  },
  {
   "cell_type": "code",
   "execution_count": 6,
   "id": "4cd06646",
   "metadata": {},
   "outputs": [],
   "source": [
    "def extract_answer_index(text):\n",
    "    \"\"\"\n",
    "    Trích xuất ký tự A/B/C/D sau 'Answer:' và chuyển thành chỉ số 0–3.\n",
    "    Trả về -1 nếu không khớp.\n",
    "    \"\"\"\n",
    "    match = re.search(r\"Answer:\\s*([ABCD])\\b\", text)\n",
    "    if match:\n",
    "        letter = match.group(1)\n",
    "        return {'A': 0, 'B': 1, 'C': 2, 'D': 3}[letter]\n",
    "    return -1"
   ]
  },
  {
   "cell_type": "code",
   "execution_count": 7,
   "id": "6fa28db6",
   "metadata": {},
   "outputs": [
    {
     "name": "stdout",
     "output_type": "stream",
     "text": [
      "Answer: A => 0\n",
      "Answer: B => 1\n",
      "Answer: D => 3\n",
      "Answer: C. Some explanation => 2\n",
      "Answer: Z => -1\n",
      "Nothing Bang => -1\n"
     ]
    }
   ],
   "source": [
    "# Kiểm thử nhanh\n",
    "test_cases = [\n",
    "    \"Answer: A\",     # ✅ 0\n",
    "    \"Answer: B\",     # ✅ 1\n",
    "    \"Answer: D\",     # ✅ 3\n",
    "    \"Answer: C. Some explanation\",  # ✅ 2\n",
    "    \"Answer: Z\",     # ❌ -1\n",
    "    \"Nothing Bang\",  # ❌ -1\n",
    "]\n",
    "\n",
    "for text in test_cases:\n",
    "    print(f\"{text} => {extract_answer_index(text)}\")"
   ]
  },
  {
   "cell_type": "markdown",
   "id": "32611a55",
   "metadata": {},
   "source": [
    "load dữ liệu"
   ]
  },
  {
   "cell_type": "code",
   "execution_count": 8,
   "id": "8030c410",
   "metadata": {},
   "outputs": [],
   "source": [
    "ds = load_dataset(\"openlifescienceai/medmcqa\", split=\"validation\")\n",
    "ds_val = ds.map(formatting_prompt, batched=True)"
   ]
  },
  {
   "cell_type": "code",
   "execution_count": 9,
   "id": "2b95d32a",
   "metadata": {},
   "outputs": [
    {
     "name": "stdout",
     "output_type": "stream",
     "text": [
      "Question: Low insulin to glucagon ratio is seen in all of these except:?\n",
      "Choices:\n",
      "A. Glycogen synthesis\n",
      "B. Glycogen breakdown\n",
      "C. Gluconeogenesis\n",
      "D. Ketogenesis\n",
      "Answer\n"
     ]
    }
   ],
   "source": [
    "print(ds_val['text'][4])"
   ]
  },
  {
   "cell_type": "markdown",
   "id": "14018d5a",
   "metadata": {},
   "source": [
    "thử dự đoán với 1 mẫu"
   ]
  },
  {
   "cell_type": "code",
   "execution_count": 10,
   "id": "a6344407",
   "metadata": {},
   "outputs": [
    {
     "name": "stdout",
     "output_type": "stream",
     "text": [
      "Question: Concentration of tropicamide:?\n",
      "Choices:\n",
      "A. 0.01\n",
      "B. 0.02\n",
      "C. 0.03\n",
      "D. 0.04\n",
      "Answer:\n",
      "A\n"
     ]
    }
   ],
   "source": [
    "inputs = tokenizer(ds_val['text'][5], return_tensors=\"pt\").to(model.device)\n",
    "outputs = model.generate(\n",
    "    **inputs,\n",
    "    max_new_tokens=32,\n",
    "    do_sample=False,\n",
    "    pad_token_id=tokenizer.pad_token_id\n",
    ")\n",
    "\n",
    "print(tokenizer.decode(outputs[0], skip_special_tokens=True))\n"
   ]
  },
  {
   "cell_type": "markdown",
   "id": "f0a22f8b",
   "metadata": {},
   "source": [
    "Dự đoán với 100 mẫu"
   ]
  },
  {
   "cell_type": "code",
   "execution_count": 11,
   "id": "35bc3acb",
   "metadata": {},
   "outputs": [
    {
     "name": "stderr",
     "output_type": "stream",
     "text": [
      "🔄 Đang sinh từng câu: 100%|██████████| 100/100 [03:13<00:00,  1.94s/it]\n"
     ]
    }
   ],
   "source": [
    "from tqdm import tqdm\n",
    "\n",
    "res = []\n",
    "ds_val500 = ds_val['text'][:100]\n",
    "\n",
    "for i in tqdm(range(len(ds_val500)), desc=\"🔄 Đang sinh từng câu\"):\n",
    "\n",
    "    prompt = ds_val500[i]  # ✅ lấy từng câu riêng lẻ\n",
    "    \n",
    "    inputs = tokenizer(prompt, return_tensors=\"pt\").to(model.device)\n",
    "\n",
    "    with torch.no_grad():\n",
    "        outputs = model.generate(\n",
    "            **inputs,\n",
    "            max_new_tokens=32,\n",
    "            do_sample=False,\n",
    "        )\n",
    "\n",
    "    answer = tokenizer.decode(outputs[0], skip_special_tokens=True)\n",
    "    res.append(extract_answer_index(answer))\n"
   ]
  },
  {
   "cell_type": "code",
   "execution_count": 14,
   "id": "4e940115",
   "metadata": {},
   "outputs": [
    {
     "data": {
      "text/plain": [
       "(100,\n",
       " [3,\n",
       "  0,\n",
       "  2,\n",
       "  0,\n",
       "  0,\n",
       "  0,\n",
       "  0,\n",
       "  3,\n",
       "  2,\n",
       "  0,\n",
       "  0,\n",
       "  0,\n",
       "  0,\n",
       "  0,\n",
       "  3,\n",
       "  0,\n",
       "  0,\n",
       "  -1,\n",
       "  2,\n",
       "  0,\n",
       "  0,\n",
       "  3,\n",
       "  0,\n",
       "  0,\n",
       "  0,\n",
       "  0,\n",
       "  0,\n",
       "  0,\n",
       "  0,\n",
       "  -1,\n",
       "  0,\n",
       "  0,\n",
       "  0,\n",
       "  -1,\n",
       "  0,\n",
       "  0,\n",
       "  0,\n",
       "  0,\n",
       "  0,\n",
       "  -1,\n",
       "  0,\n",
       "  0,\n",
       "  2,\n",
       "  0,\n",
       "  1,\n",
       "  0,\n",
       "  3,\n",
       "  0,\n",
       "  0,\n",
       "  0,\n",
       "  0,\n",
       "  -1,\n",
       "  0,\n",
       "  0,\n",
       "  0,\n",
       "  0,\n",
       "  0,\n",
       "  0,\n",
       "  0,\n",
       "  0,\n",
       "  -1,\n",
       "  3,\n",
       "  -1,\n",
       "  0,\n",
       "  0,\n",
       "  0,\n",
       "  0,\n",
       "  0,\n",
       "  2,\n",
       "  0,\n",
       "  1,\n",
       "  1,\n",
       "  0,\n",
       "  0,\n",
       "  0,\n",
       "  1,\n",
       "  0,\n",
       "  0,\n",
       "  0,\n",
       "  0,\n",
       "  2,\n",
       "  0,\n",
       "  0,\n",
       "  0,\n",
       "  1,\n",
       "  0,\n",
       "  0,\n",
       "  0,\n",
       "  0,\n",
       "  0,\n",
       "  0,\n",
       "  0,\n",
       "  3,\n",
       "  3,\n",
       "  0,\n",
       "  0,\n",
       "  0,\n",
       "  0,\n",
       "  1,\n",
       "  0])"
      ]
     },
     "execution_count": 14,
     "metadata": {},
     "output_type": "execute_result"
    }
   ],
   "source": [
    "len(res), res"
   ]
  },
  {
   "cell_type": "code",
   "execution_count": 15,
   "id": "aa34baf1",
   "metadata": {},
   "outputs": [
    {
     "name": "stdout",
     "output_type": "stream",
     "text": [
      "🎯 Accuracy (hợp lệ): 35.48 %\n",
      "\n",
      "📋 Classification Report (chỉ mẫu hợp lệ):\n",
      "              precision    recall  f1-score   support\n",
      "\n",
      "           A       0.38      0.80      0.52        35\n",
      "           B       0.33      0.07      0.12        27\n",
      "           C       0.50      0.19      0.27        16\n",
      "           D       0.00      0.00      0.00        15\n",
      "\n",
      "    accuracy                           0.35        93\n",
      "   macro avg       0.30      0.27      0.23        93\n",
      "weighted avg       0.33      0.35      0.28        93\n",
      "\n"
     ]
    },
    {
     "data": {
      "image/png": "[encoded data removed]",
      "text/plain": [
       "<Figure size 600x500 with 2 Axes>"
      ]
     },
     "metadata": {},
     "output_type": "display_data"
    },
    {
     "name": "stdout",
     "output_type": "stream",
     "text": [
      "\n",
      "⚠️ Mô hình trả về -1 cho 7/100 mẫu (7.0%)\n"
     ]
    }
   ],
   "source": [
    "# ✅ Ground truth\n",
    "gts = ds_val['cop'][:100] # Đảm bảo là list[int]\n",
    "# ✅ res = [0, 1, 2, 3, -1, ...]  # đã có từ trước\n",
    "\n",
    "# ✅ Tính accuracy (chỉ trên mẫu hợp lệ: 0–3)\n",
    "valid_indices = [i for i, r in enumerate(res) if r in [0,1,2,3]]\n",
    "gts_valid = [gts[i] for i in valid_indices]\n",
    "res_valid = [res[i] for i in valid_indices]\n",
    "\n",
    "# 📌 Hugging Face Evaluate - Accuracy\n",
    "accuracy = evaluate.load(\"accuracy\")\n",
    "acc_result = accuracy.compute(predictions=res_valid, references=gts_valid)\n",
    "print(\"🎯 Accuracy (hợp lệ):\", round(acc_result['accuracy'] * 100, 2), \"%\")\n",
    "\n",
    "# 📌 Classification Report (chỉ cho hợp lệ)\n",
    "print(\"\\n📋 Classification Report (chỉ mẫu hợp lệ):\")\n",
    "print(classification_report(gts_valid, res_valid, labels=[0,1,2,3], target_names=[\"A\", \"B\", \"C\", \"D\"]))\n",
    "\n",
    "# ✅ Mở rộng Confusion Matrix: gồm cả -1\n",
    "labels_all = [-1, 0, 1, 2, 3]\n",
    "target_names = [\"Invalid\", \"A\", \"B\", \"C\", \"D\"]\n",
    "\n",
    "cm = confusion_matrix(gts, res, labels=labels_all)\n",
    "\n",
    "# 📊 Vẽ heatmap\n",
    "plt.figure(figsize=(6, 5))\n",
    "sns.heatmap(cm, annot=True, fmt='d',\n",
    "            xticklabels=target_names,\n",
    "            yticklabels=target_names,\n",
    "            cmap=\"Blues\")\n",
    "plt.xlabel(\"Predicted\")\n",
    "plt.ylabel(\"True\")\n",
    "plt.title(\"Confusion Matrix (bao gồm cả -1)\")\n",
    "plt.show()\n",
    "\n",
    "# ✅ Thống kê số mẫu invalid\n",
    "num_invalid = res.count(-1)\n",
    "print(f\"\\n⚠️ Mô hình trả về -1 cho {num_invalid}/{len(res)} mẫu ({round(num_invalid/len(res)*100, 2)}%)\")\n",
    "\n"
   ]
  }
 ],
 "metadata": {
  "kernelspec": {
   "display_name": "venv",
   "language": "python",
   "name": "python3"
  },
  "language_info": {
   "codemirror_mode": {
    "name": "ipython",
    "version": 3
   },
   "file_extension": ".py",
   "mimetype": "text/x-python",
   "name": "python",
   "nbconvert_exporter": "python",
   "pygments_lexer": "ipython3",
   "version": "3.10.8"
  }
 },
 "nbformat": 4,
 "nbformat_minor": 5
}
